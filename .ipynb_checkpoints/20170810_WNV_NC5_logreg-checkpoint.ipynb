{
 "cells": [
  {
   "cell_type": "code",
   "execution_count": 120,
   "metadata": {},
   "outputs": [],
   "source": [
    "import pandas as pd\n",
    "import numpy as np\n",
    "from numpy import array\n",
    "import csv\n",
    "import matplotlib.pyplot as plt\n",
    "import matplotlib.cm as cm\n",
    "%matplotlib inline\n",
    "\n",
    "from statsmodels.nonparametric.smoothers_lowess import lowess\n",
    "from statsmodels.formula.api import logit, glm\n",
    "\n",
    "import seaborn as sns\n",
    "from sklearn import datasets\n",
    "from sklearn import linear_model\n",
    "from sklearn.metrics import silhouette_samples, silhouette_score\n",
    "\n",
    "import statsmodels.api as sm\n",
    "import statsmodels.formula.api as smf\n",
    "\n",
    "import pylab as pl\n",
    "\n",
    "# df_train_test = pd.concat([df_train.set_index('Trap'),df_train.set_index('Trap')], axis=1, join='inner')\n",
    "# df_train_weather = pd.merge(df_train,df_weather,on='Date',how='inner')\n",
    "\n",
    "df_test_weather = pd.read_csv('../Dream-Team-DSI-5_data/test_weather3d.csv')\n",
    "df_train_weather = pd.read_csv('../Dream-Team-DSI-5_data/train_weather2d.csv')"
   ]
  },
  {
   "cell_type": "code",
   "execution_count": 121,
   "metadata": {},
   "outputs": [
    {
     "data": {
      "text/plain": [
       "(8475, 42)"
      ]
     },
     "execution_count": 121,
     "metadata": {},
     "output_type": "execute_result"
    }
   ],
   "source": [
    "df_train_weather.shape"
   ]
  },
  {
   "cell_type": "code",
   "execution_count": 122,
   "metadata": {},
   "outputs": [
    {
     "data": {
      "text/plain": [
       "(116293, 40)"
      ]
     },
     "execution_count": 122,
     "metadata": {},
     "output_type": "execute_result"
    }
   ],
   "source": [
    "df_test_weather.shape"
   ]
  },
  {
   "cell_type": "code",
   "execution_count": 123,
   "metadata": {},
   "outputs": [
    {
     "name": "stdout",
     "output_type": "stream",
     "text": [
      "missing values \n",
      "Id               0\n",
      "Date             0\n",
      "Species          0\n",
      "Trap             0\n",
      "tmax_x           0\n",
      "tmin_x           0\n",
      "tavg_x           0\n",
      "depart_x         0\n",
      "dewpoint_x       0\n",
      "wetbulb_x        0\n",
      "heat_x           0\n",
      "cool_x           0\n",
      "preciptotal_x    0\n",
      "stnpressure_x    0\n",
      "sealevel_x       0\n",
      "resultspeed_x    0\n",
      "resultdir_x      0\n",
      "avgspeed_x       0\n",
      "tmax_y           0\n",
      "tmin_y           0\n",
      "tavg_y           0\n",
      "depart_y         0\n",
      "dewpoint_y       0\n",
      "wetbulb_y        0\n",
      "heat_y           0\n",
      "cool_y           0\n",
      "preciptotal_y    0\n",
      "stnpressure_y    0\n",
      "sealevel_y       0\n",
      "resultspeed_y    0\n",
      "resultdir_y      0\n",
      "avgspeed_y       0\n",
      "year             0\n",
      "coollast7        0\n",
      "coollast30       0\n",
      "coollast90       0\n",
      "preciplast7      0\n",
      "preciplast30     0\n",
      "preciplast90     0\n",
      "DayofYear        0\n",
      "dtype: int64\n",
      "dataframe index \n",
      "RangeIndex(start=0, stop=116293, step=1)\n",
      "dataframe types \n",
      "Id                 int64\n",
      "Date              object\n",
      "Species            int64\n",
      "Trap               int64\n",
      "tmax_x             int64\n",
      "tmin_x             int64\n",
      "tavg_x           float64\n",
      "depart_x         float64\n",
      "dewpoint_x         int64\n",
      "wetbulb_x        float64\n",
      "heat_x           float64\n",
      "cool_x           float64\n",
      "preciptotal_x    float64\n",
      "stnpressure_x    float64\n",
      "sealevel_x       float64\n",
      "resultspeed_x    float64\n",
      "resultdir_x        int64\n",
      "avgspeed_x       float64\n",
      "tmax_y             int64\n",
      "tmin_y             int64\n",
      "tavg_y           float64\n",
      "depart_y         float64\n",
      "dewpoint_y         int64\n",
      "wetbulb_y        float64\n",
      "heat_y           float64\n",
      "cool_y           float64\n",
      "preciptotal_y    float64\n",
      "stnpressure_y    float64\n",
      "sealevel_y       float64\n",
      "resultspeed_y    float64\n",
      "resultdir_y        int64\n",
      "avgspeed_y       float64\n",
      "year               int64\n",
      "coollast7        float64\n",
      "coollast30       float64\n",
      "coollast90       float64\n",
      "preciplast7      float64\n",
      "preciplast30     float64\n",
      "preciplast90     float64\n",
      "DayofYear          int64\n",
      "dtype: object\n",
      "dataframe shape \n",
      "(116293, 40)\n",
      "dataframe describe \n",
      "                  Id        Species           Trap         tmax_x  \\\n",
      "count  116293.000000  116293.000000  116293.000000  116293.000000   \n",
      "mean    58147.000000       3.481938      73.594189      81.082146   \n",
      "std     33571.041765       2.282689      43.522232       7.585843   \n",
      "min         1.000000       0.000000       0.000000      56.000000   \n",
      "25%     29074.000000       2.000000      35.000000      76.000000   \n",
      "50%     58147.000000       3.000000      73.000000      82.000000   \n",
      "75%     87220.000000       5.000000     111.000000      87.000000   \n",
      "max    116293.000000       7.000000     148.000000      95.000000   \n",
      "\n",
      "              tmin_x         tavg_x       depart_x     dewpoint_x  \\\n",
      "count  116293.000000  116293.000000  116293.000000  116293.000000   \n",
      "mean       61.351371       0.164713       1.750286      57.282777   \n",
      "std         6.253323       0.444764       5.343732       7.159588   \n",
      "min        48.000000       0.000000     -12.000000      39.000000   \n",
      "25%        56.000000       0.000000      -2.000000      52.000000   \n",
      "50%        62.000000       0.000000       2.000000      57.000000   \n",
      "75%        66.000000       0.070000       6.000000      63.000000   \n",
      "max        73.000000       2.790000      16.000000      71.000000   \n",
      "\n",
      "          wetbulb_x         heat_x      ...          resultdir_y  \\\n",
      "count  116293.00000  116293.000000      ...        116293.000000   \n",
      "mean       62.97539       0.629479      ...            18.398769   \n",
      "std         5.77305       1.862324      ...             9.985888   \n",
      "min        47.00000       0.000000      ...             1.000000   \n",
      "25%        59.00000       0.000000      ...             9.000000   \n",
      "50%        63.00000       0.000000      ...            19.000000   \n",
      "75%        68.00000       0.000000      ...            26.000000   \n",
      "max        74.00000      12.000000      ...            36.000000   \n",
      "\n",
      "          avgspeed_y           year      coollast7     coollast30  \\\n",
      "count  116293.000000  116293.000000  116293.000000  116293.000000   \n",
      "mean        8.044259    2010.702759      56.702863     195.365327   \n",
      "std         2.495115       2.128750      32.415512      83.267276   \n",
      "min         3.700000    2008.000000       0.000000      12.000000   \n",
      "25%         6.100000    2008.000000      33.000000     131.000000   \n",
      "50%         7.900000    2010.000000      57.000000     184.000000   \n",
      "75%         9.500000    2012.000000      80.000000     253.000000   \n",
      "max        16.600000    2014.000000     149.000000     406.000000   \n",
      "\n",
      "          coollast90    preciplast7   preciplast30   preciplast90  \\\n",
      "count  116293.000000  116293.000000  116293.000000  116293.000000   \n",
      "mean      344.959499       1.264978       3.393245       7.457984   \n",
      "std       256.707379       1.607196       2.012912       3.416980   \n",
      "min         0.000000       0.005000       0.160000       0.145000   \n",
      "25%       128.000000       0.240000       2.015000       4.655000   \n",
      "50%       299.000000       0.705000       3.045000       7.285000   \n",
      "75%       554.000000       1.720000       4.320000       9.990000   \n",
      "max       853.000000       8.460000      12.620000      14.620000   \n",
      "\n",
      "           DayofYear  \n",
      "count  116293.000000  \n",
      "mean      217.057304  \n",
      "std        32.536523  \n",
      "min       153.000000  \n",
      "25%       193.000000  \n",
      "50%       217.000000  \n",
      "75%       244.000000  \n",
      "max       275.000000  \n",
      "\n",
      "[8 rows x 39 columns]\n",
      "Id\n",
      "116293\n",
      "Date\n",
      "95\n",
      "Species\n",
      "8\n",
      "Trap\n",
      "149\n",
      "tmax_x\n",
      "31\n",
      "tmin_x\n",
      "25\n",
      "tavg_x\n",
      "30\n",
      "depart_x\n",
      "24\n",
      "dewpoint_x\n",
      "29\n",
      "wetbulb_x\n",
      "23\n",
      "heat_x\n",
      "8\n",
      "cool_x\n",
      "18\n",
      "preciptotal_x\n",
      "30\n",
      "stnpressure_x\n",
      "44\n",
      "sealevel_x\n",
      "40\n",
      "resultspeed_x\n",
      "68\n",
      "resultdir_x\n",
      "31\n",
      "avgspeed_x\n",
      "58\n",
      "tmax_y\n",
      "27\n",
      "tmin_y\n",
      "26\n",
      "tavg_y\n",
      "25\n",
      "depart_y\n",
      "24\n",
      "dewpoint_y\n",
      "30\n",
      "wetbulb_y\n",
      "24\n",
      "heat_y\n",
      "8\n",
      "cool_y\n",
      "19\n",
      "preciptotal_y\n",
      "25\n",
      "stnpressure_y\n",
      "39\n",
      "sealevel_y\n",
      "43\n",
      "resultspeed_y\n",
      "62\n",
      "resultdir_y\n",
      "35\n",
      "avgspeed_y\n",
      "61\n",
      "year\n",
      "4\n",
      "coollast7\n",
      "65\n",
      "coollast30\n",
      "77\n",
      "coollast90\n",
      "82\n",
      "preciplast7\n",
      "80\n",
      "preciplast30\n",
      "87\n",
      "preciplast90\n",
      "86\n",
      "DayofYear\n",
      "76\n"
     ]
    }
   ],
   "source": [
    "def eda(dataframe):\n",
    "    print \"missing values \\n\", dataframe.isnull().sum()\n",
    "    print \"dataframe index \\n\", dataframe.index\n",
    "    print \"dataframe types \\n\", dataframe.dtypes\n",
    "    print \"dataframe shape \\n\", dataframe.shape\n",
    "    print \"dataframe describe \\n\", dataframe.describe()\n",
    "    for item in dataframe:\n",
    "        print item\n",
    "        print dataframe[item].nunique()\n",
    "\n",
    "eda(df_test_weather)"
   ]
  },
  {
   "cell_type": "code",
   "execution_count": 125,
   "metadata": {},
   "outputs": [],
   "source": [
    "# ## HOW MANY ROWS in DF_TEST CONTAIN INFO FROM DATE 2008-06-11?\n",
    "\n",
    "# df1 = df_test[df_test['Date'] == '2008-06-11']\n",
    "# print df1"
   ]
  },
  {
   "cell_type": "code",
   "execution_count": 124,
   "metadata": {},
   "outputs": [],
   "source": [
    "# ## HOW MANY ROWS in DF_TEST_WEATHER_2B CONTAIN INFO FROM DATE 2008-06-11?\n",
    "\n",
    "# df2 = df_test_weather_2c[df_test_weather_2c['Date'] == '2008-06-11']\n",
    "# print df2"
   ]
  },
  {
   "cell_type": "code",
   "execution_count": 127,
   "metadata": {},
   "outputs": [
    {
     "data": {
      "text/plain": [
       "['Date',\n",
       " 'Species',\n",
       " 'Trap',\n",
       " 'NumMosquitos',\n",
       " 'WnvPresent',\n",
       " 'Year',\n",
       " 'DayofYear',\n",
       " 'tmax_x',\n",
       " 'tmin_x',\n",
       " 'tavg_x',\n",
       " 'depart_x',\n",
       " 'dewpoint_x',\n",
       " 'wetbulb_x',\n",
       " 'heat_x',\n",
       " 'cool_x',\n",
       " 'preciptotal_x',\n",
       " 'stnpressure_x',\n",
       " 'sealevel_x',\n",
       " 'resultspeed_x',\n",
       " 'resultdir_x',\n",
       " 'avgspeed_x',\n",
       " 'tmax_y',\n",
       " 'tmin_y',\n",
       " 'tavg_y',\n",
       " 'depart_y',\n",
       " 'dewpoint_y',\n",
       " 'wetbulb_y',\n",
       " 'heat_y',\n",
       " 'cool_y',\n",
       " 'preciptotal_y',\n",
       " 'stnpressure_y',\n",
       " 'sealevel_y',\n",
       " 'resultspeed_y',\n",
       " 'resultdir_y',\n",
       " 'avgspeed_y',\n",
       " 'year',\n",
       " 'coollast7',\n",
       " 'coollast30',\n",
       " 'coollast90',\n",
       " 'preciplast7',\n",
       " 'preciplast30',\n",
       " 'preciplast90']"
      ]
     },
     "execution_count": 127,
     "metadata": {},
     "output_type": "execute_result"
    }
   ],
   "source": [
    "list(df_train_weather)"
   ]
  },
  {
   "cell_type": "code",
   "execution_count": 128,
   "metadata": {},
   "outputs": [
    {
     "data": {
      "text/plain": [
       "['Id',\n",
       " 'Date',\n",
       " 'Species',\n",
       " 'Trap',\n",
       " 'tmax_x',\n",
       " 'tmin_x',\n",
       " 'tavg_x',\n",
       " 'depart_x',\n",
       " 'dewpoint_x',\n",
       " 'wetbulb_x',\n",
       " 'heat_x',\n",
       " 'cool_x',\n",
       " 'preciptotal_x',\n",
       " 'stnpressure_x',\n",
       " 'sealevel_x',\n",
       " 'resultspeed_x',\n",
       " 'resultdir_x',\n",
       " 'avgspeed_x',\n",
       " 'tmax_y',\n",
       " 'tmin_y',\n",
       " 'tavg_y',\n",
       " 'depart_y',\n",
       " 'dewpoint_y',\n",
       " 'wetbulb_y',\n",
       " 'heat_y',\n",
       " 'cool_y',\n",
       " 'preciptotal_y',\n",
       " 'stnpressure_y',\n",
       " 'sealevel_y',\n",
       " 'resultspeed_y',\n",
       " 'resultdir_y',\n",
       " 'avgspeed_y',\n",
       " 'year',\n",
       " 'coollast7',\n",
       " 'coollast30',\n",
       " 'coollast90',\n",
       " 'preciplast7',\n",
       " 'preciplast30',\n",
       " 'preciplast90',\n",
       " 'DayofYear']"
      ]
     },
     "execution_count": 128,
     "metadata": {},
     "output_type": "execute_result"
    }
   ],
   "source": [
    "list(df_test_weather)"
   ]
  },
  {
   "cell_type": "code",
   "execution_count": 129,
   "metadata": {},
   "outputs": [
    {
     "data": {
      "text/html": [
       "<div>\n",
       "<style>\n",
       "    .dataframe thead tr:only-child th {\n",
       "        text-align: right;\n",
       "    }\n",
       "\n",
       "    .dataframe thead th {\n",
       "        text-align: left;\n",
       "    }\n",
       "\n",
       "    .dataframe tbody tr th {\n",
       "        vertical-align: top;\n",
       "    }\n",
       "</style>\n",
       "<table border=\"1\" class=\"dataframe\">\n",
       "  <thead>\n",
       "    <tr style=\"text-align: right;\">\n",
       "      <th></th>\n",
       "      <th>Date</th>\n",
       "      <th>Species</th>\n",
       "      <th>Trap</th>\n",
       "      <th>NumMosquitos</th>\n",
       "      <th>WnvPresent</th>\n",
       "      <th>Year</th>\n",
       "      <th>DayofYear</th>\n",
       "      <th>tmax_x</th>\n",
       "      <th>tmin_x</th>\n",
       "      <th>tavg_x</th>\n",
       "      <th>...</th>\n",
       "      <th>resultspeed_y</th>\n",
       "      <th>resultdir_y</th>\n",
       "      <th>avgspeed_y</th>\n",
       "      <th>year</th>\n",
       "      <th>coollast7</th>\n",
       "      <th>coollast30</th>\n",
       "      <th>coollast90</th>\n",
       "      <th>preciplast7</th>\n",
       "      <th>preciplast30</th>\n",
       "      <th>preciplast90</th>\n",
       "    </tr>\n",
       "  </thead>\n",
       "  <tbody>\n",
       "    <tr>\n",
       "      <th>0</th>\n",
       "      <td>2007-05-29</td>\n",
       "      <td>2</td>\n",
       "      <td>1</td>\n",
       "      <td>1</td>\n",
       "      <td>0</td>\n",
       "      <td>2007</td>\n",
       "      <td>149</td>\n",
       "      <td>88</td>\n",
       "      <td>60</td>\n",
       "      <td>0.0</td>\n",
       "      <td>...</td>\n",
       "      <td>5.8</td>\n",
       "      <td>16</td>\n",
       "      <td>7.4</td>\n",
       "      <td>2007</td>\n",
       "      <td>31.0</td>\n",
       "      <td>35.0</td>\n",
       "      <td>0.0</td>\n",
       "      <td>1.08</td>\n",
       "      <td>0.735</td>\n",
       "      <td>0.0</td>\n",
       "    </tr>\n",
       "    <tr>\n",
       "      <th>1</th>\n",
       "      <td>2007-05-29</td>\n",
       "      <td>3</td>\n",
       "      <td>1</td>\n",
       "      <td>1</td>\n",
       "      <td>0</td>\n",
       "      <td>2007</td>\n",
       "      <td>149</td>\n",
       "      <td>88</td>\n",
       "      <td>60</td>\n",
       "      <td>0.0</td>\n",
       "      <td>...</td>\n",
       "      <td>5.8</td>\n",
       "      <td>16</td>\n",
       "      <td>7.4</td>\n",
       "      <td>2007</td>\n",
       "      <td>31.0</td>\n",
       "      <td>35.0</td>\n",
       "      <td>0.0</td>\n",
       "      <td>1.08</td>\n",
       "      <td>0.735</td>\n",
       "      <td>0.0</td>\n",
       "    </tr>\n",
       "    <tr>\n",
       "      <th>2</th>\n",
       "      <td>2007-05-29</td>\n",
       "      <td>3</td>\n",
       "      <td>8</td>\n",
       "      <td>1</td>\n",
       "      <td>0</td>\n",
       "      <td>2007</td>\n",
       "      <td>149</td>\n",
       "      <td>88</td>\n",
       "      <td>60</td>\n",
       "      <td>0.0</td>\n",
       "      <td>...</td>\n",
       "      <td>5.8</td>\n",
       "      <td>16</td>\n",
       "      <td>7.4</td>\n",
       "      <td>2007</td>\n",
       "      <td>31.0</td>\n",
       "      <td>35.0</td>\n",
       "      <td>0.0</td>\n",
       "      <td>1.08</td>\n",
       "      <td>0.735</td>\n",
       "      <td>0.0</td>\n",
       "    </tr>\n",
       "    <tr>\n",
       "      <th>3</th>\n",
       "      <td>2007-05-29</td>\n",
       "      <td>2</td>\n",
       "      <td>15</td>\n",
       "      <td>1</td>\n",
       "      <td>0</td>\n",
       "      <td>2007</td>\n",
       "      <td>149</td>\n",
       "      <td>88</td>\n",
       "      <td>60</td>\n",
       "      <td>0.0</td>\n",
       "      <td>...</td>\n",
       "      <td>5.8</td>\n",
       "      <td>16</td>\n",
       "      <td>7.4</td>\n",
       "      <td>2007</td>\n",
       "      <td>31.0</td>\n",
       "      <td>35.0</td>\n",
       "      <td>0.0</td>\n",
       "      <td>1.08</td>\n",
       "      <td>0.735</td>\n",
       "      <td>0.0</td>\n",
       "    </tr>\n",
       "    <tr>\n",
       "      <th>4</th>\n",
       "      <td>2007-05-29</td>\n",
       "      <td>3</td>\n",
       "      <td>15</td>\n",
       "      <td>4</td>\n",
       "      <td>0</td>\n",
       "      <td>2007</td>\n",
       "      <td>149</td>\n",
       "      <td>88</td>\n",
       "      <td>60</td>\n",
       "      <td>0.0</td>\n",
       "      <td>...</td>\n",
       "      <td>5.8</td>\n",
       "      <td>16</td>\n",
       "      <td>7.4</td>\n",
       "      <td>2007</td>\n",
       "      <td>31.0</td>\n",
       "      <td>35.0</td>\n",
       "      <td>0.0</td>\n",
       "      <td>1.08</td>\n",
       "      <td>0.735</td>\n",
       "      <td>0.0</td>\n",
       "    </tr>\n",
       "  </tbody>\n",
       "</table>\n",
       "<p>5 rows × 42 columns</p>\n",
       "</div>"
      ],
      "text/plain": [
       "         Date  Species  Trap  NumMosquitos  WnvPresent  Year  DayofYear  \\\n",
       "0  2007-05-29        2     1             1           0  2007        149   \n",
       "1  2007-05-29        3     1             1           0  2007        149   \n",
       "2  2007-05-29        3     8             1           0  2007        149   \n",
       "3  2007-05-29        2    15             1           0  2007        149   \n",
       "4  2007-05-29        3    15             4           0  2007        149   \n",
       "\n",
       "   tmax_x  tmin_x  tavg_x      ...       resultspeed_y  resultdir_y  \\\n",
       "0      88      60     0.0      ...                 5.8           16   \n",
       "1      88      60     0.0      ...                 5.8           16   \n",
       "2      88      60     0.0      ...                 5.8           16   \n",
       "3      88      60     0.0      ...                 5.8           16   \n",
       "4      88      60     0.0      ...                 5.8           16   \n",
       "\n",
       "   avgspeed_y  year  coollast7  coollast30  coollast90  preciplast7  \\\n",
       "0         7.4  2007       31.0        35.0         0.0         1.08   \n",
       "1         7.4  2007       31.0        35.0         0.0         1.08   \n",
       "2         7.4  2007       31.0        35.0         0.0         1.08   \n",
       "3         7.4  2007       31.0        35.0         0.0         1.08   \n",
       "4         7.4  2007       31.0        35.0         0.0         1.08   \n",
       "\n",
       "   preciplast30  preciplast90  \n",
       "0         0.735           0.0  \n",
       "1         0.735           0.0  \n",
       "2         0.735           0.0  \n",
       "3         0.735           0.0  \n",
       "4         0.735           0.0  \n",
       "\n",
       "[5 rows x 42 columns]"
      ]
     },
     "execution_count": 129,
     "metadata": {},
     "output_type": "execute_result"
    }
   ],
   "source": [
    "df_train_weather.head(5)"
   ]
  },
  {
   "cell_type": "code",
   "execution_count": 130,
   "metadata": {},
   "outputs": [
    {
     "data": {
      "text/plain": [
       "array([[<matplotlib.axes._subplots.AxesSubplot object at 0x11c3c4ed0>,\n",
       "        <matplotlib.axes._subplots.AxesSubplot object at 0x111d00290>,\n",
       "        <matplotlib.axes._subplots.AxesSubplot object at 0x1126f3a90>,\n",
       "        <matplotlib.axes._subplots.AxesSubplot object at 0x112ca1e50>,\n",
       "        <matplotlib.axes._subplots.AxesSubplot object at 0x11270df10>,\n",
       "        <matplotlib.axes._subplots.AxesSubplot object at 0x11b6fb5d0>],\n",
       "       [<matplotlib.axes._subplots.AxesSubplot object at 0x11bcef7d0>,\n",
       "        <matplotlib.axes._subplots.AxesSubplot object at 0x11dde2bd0>,\n",
       "        <matplotlib.axes._subplots.AxesSubplot object at 0x11de67d10>,\n",
       "        <matplotlib.axes._subplots.AxesSubplot object at 0x11ded9610>,\n",
       "        <matplotlib.axes._subplots.AxesSubplot object at 0x11df5f810>,\n",
       "        <matplotlib.axes._subplots.AxesSubplot object at 0x11dfc3f10>],\n",
       "       [<matplotlib.axes._subplots.AxesSubplot object at 0x11e056210>,\n",
       "        <matplotlib.axes._subplots.AxesSubplot object at 0x11e0bac90>,\n",
       "        <matplotlib.axes._subplots.AxesSubplot object at 0x11e7d3090>,\n",
       "        <matplotlib.axes._subplots.AxesSubplot object at 0x11e0d5650>,\n",
       "        <matplotlib.axes._subplots.AxesSubplot object at 0x11e8bd7d0>,\n",
       "        <matplotlib.axes._subplots.AxesSubplot object at 0x11e9439d0>],\n",
       "       [<matplotlib.axes._subplots.AxesSubplot object at 0x11e988850>,\n",
       "        <matplotlib.axes._subplots.AxesSubplot object at 0x11ea0f710>,\n",
       "        <matplotlib.axes._subplots.AxesSubplot object at 0x11ea81190>,\n",
       "        <matplotlib.axes._subplots.AxesSubplot object at 0x11eb05450>,\n",
       "        <matplotlib.axes._subplots.AxesSubplot object at 0x11eb6ded0>,\n",
       "        <matplotlib.axes._subplots.AxesSubplot object at 0x11ebfd2d0>],\n",
       "       [<matplotlib.axes._subplots.AxesSubplot object at 0x11eb88bd0>,\n",
       "        <matplotlib.axes._subplots.AxesSubplot object at 0x1200881d0>,\n",
       "        <matplotlib.axes._subplots.AxesSubplot object at 0x1200b5350>,\n",
       "        <matplotlib.axes._subplots.AxesSubplot object at 0x120172f10>,\n",
       "        <matplotlib.axes._subplots.AxesSubplot object at 0x1201f7e90>,\n",
       "        <matplotlib.axes._subplots.AxesSubplot object at 0x12026ba50>],\n",
       "       [<matplotlib.axes._subplots.AxesSubplot object at 0x1202efa90>,\n",
       "        <matplotlib.axes._subplots.AxesSubplot object at 0x120363610>,\n",
       "        <matplotlib.axes._subplots.AxesSubplot object at 0x1203e9810>,\n",
       "        <matplotlib.axes._subplots.AxesSubplot object at 0x12056f2d0>,\n",
       "        <matplotlib.axes._subplots.AxesSubplot object at 0x12100c4d0>,\n",
       "        <matplotlib.axes._subplots.AxesSubplot object at 0x121080050>],\n",
       "       [<matplotlib.axes._subplots.AxesSubplot object at 0x1211044d0>,\n",
       "        <matplotlib.axes._subplots.AxesSubplot object at 0x1210b7b90>,\n",
       "        <matplotlib.axes._subplots.AxesSubplot object at 0x122228410>,\n",
       "        <matplotlib.axes._subplots.AxesSubplot object at 0x1222ae390>,\n",
       "        <matplotlib.axes._subplots.AxesSubplot object at 0x122320190>,\n",
       "        <matplotlib.axes._subplots.AxesSubplot object at 0x1223a5110>]], dtype=object)"
      ]
     },
     "execution_count": 130,
     "metadata": {},
     "output_type": "execute_result"
    },
    {
     "data": {
      "image/png": "[encoded data removed]",
      "text/plain": [
       "<matplotlib.figure.Figure at 0x11c339950>"
      ]
     },
     "metadata": {},
     "output_type": "display_data"
    }
   ],
   "source": [
    "df_train_weather.hist()"
   ]
  },
  {
   "cell_type": "code",
   "execution_count": 32,
   "metadata": {},
   "outputs": [
    {
     "name": "stdout",
     "output_type": "stream",
     "text": [
      "missing values \n",
      "Date                      0\n",
      "Trap                      0\n",
      "NumMosquitos              0\n",
      "WnvPresent                0\n",
      "Year                      0\n",
      "DayofYear                 0\n",
      "CULEX ERRATICUS           0\n",
      "CULEX PIPIENS             0\n",
      "CULEX PIPIENS/RESTUANS    0\n",
      "CULEX RESTUANS            0\n",
      "CULEX SALINARIUS          0\n",
      "CULEX TARSALIS            0\n",
      "CULEX TERRITANS           0\n",
      "tmax                      0\n",
      "tmin                      0\n",
      "tavg                      0\n",
      "depart                    0\n",
      "dewpoint                  0\n",
      "wetbulb                   0\n",
      "heat                      0\n",
      "cool                      0\n",
      "preciptotal               0\n",
      "stnpressure               0\n",
      "sealevel                  0\n",
      "resultspeed               0\n",
      "resultdir                 0\n",
      "avgspeed                  0\n",
      "dtype: int64\n",
      "dataframe index \n",
      "RangeIndex(start=0, stop=4616, step=1)\n",
      "dataframe types \n",
      "Date                       object\n",
      "Trap                       object\n",
      "NumMosquitos                int64\n",
      "WnvPresent                  int64\n",
      "Year                        int64\n",
      "DayofYear                   int64\n",
      "CULEX ERRATICUS             int64\n",
      "CULEX PIPIENS               int64\n",
      "CULEX PIPIENS/RESTUANS      int64\n",
      "CULEX RESTUANS              int64\n",
      "CULEX SALINARIUS            int64\n",
      "CULEX TARSALIS              int64\n",
      "CULEX TERRITANS             int64\n",
      "tmax                        int64\n",
      "tmin                        int64\n",
      "tavg                        int64\n",
      "depart                      int64\n",
      "dewpoint                    int64\n",
      "wetbulb                     int64\n",
      "heat                        int64\n",
      "cool                        int64\n",
      "preciptotal               float64\n",
      "stnpressure               float64\n",
      "sealevel                  float64\n",
      "resultspeed               float64\n",
      "resultdir                   int64\n",
      "avgspeed                  float64\n",
      "dtype: object\n",
      "dataframe shape \n",
      "(4616, 27)\n",
      "dataframe describe \n",
      "       NumMosquitos   WnvPresent         Year    DayofYear  CULEX ERRATICUS  \\\n",
      "count   4616.000000  4616.000000  4616.000000  4616.000000      4616.000000   \n",
      "mean      29.254549     0.083406  2009.803726   218.114601         0.000217   \n",
      "std      118.533327     0.276524     2.346671    34.486156         0.014719   \n",
      "min        1.000000     0.000000  2007.000000   148.000000         0.000000   \n",
      "25%        3.000000     0.000000  2007.000000   192.000000         0.000000   \n",
      "50%        7.000000     0.000000  2009.000000   219.000000         0.000000   \n",
      "75%       20.000000     0.000000  2013.000000   248.000000         0.000000   \n",
      "max     3002.000000     1.000000  2013.000000   282.000000         1.000000   \n",
      "\n",
      "       CULEX PIPIENS  CULEX PIPIENS/RESTUANS  CULEX RESTUANS  \\\n",
      "count    4616.000000             4616.000000     4616.000000   \n",
      "mean        0.422444                0.828856        0.518414   \n",
      "std         0.494002                0.376675        0.499715   \n",
      "min         0.000000                0.000000        0.000000   \n",
      "25%         0.000000                1.000000        0.000000   \n",
      "50%         0.000000                1.000000        1.000000   \n",
      "75%         1.000000                1.000000        1.000000   \n",
      "max         1.000000                1.000000        1.000000   \n",
      "\n",
      "       CULEX SALINARIUS  CULEX TARSALIS     ...          dewpoint  \\\n",
      "count       4616.000000     4616.000000     ...       4616.000000   \n",
      "mean           0.017981        0.001300     ...         59.050260   \n",
      "std            0.132896        0.036034     ...          8.079673   \n",
      "min            0.000000        0.000000     ...         39.000000   \n",
      "25%            0.000000        0.000000     ...         54.000000   \n",
      "50%            0.000000        0.000000     ...         59.000000   \n",
      "75%            0.000000        0.000000     ...         67.000000   \n",
      "max            1.000000        1.000000     ...         73.000000   \n",
      "\n",
      "           wetbulb         heat         cool  preciptotal  stnpressure  \\\n",
      "count  4616.000000  4616.000000  4616.000000  4616.000000  4616.000000   \n",
      "mean     63.942808     1.227686     7.703856     0.205433    29.260661   \n",
      "std       7.132167     3.179215     5.652757     0.514795     0.132700   \n",
      "min      46.000000     0.000000     0.000000     0.000000    28.890000   \n",
      "25%      59.000000     0.000000     2.000000     0.000000    29.180000   \n",
      "50%      65.000000     0.000000     8.000000     0.000000    29.260000   \n",
      "75%      69.000000     0.000000    12.000000     0.180000    29.340000   \n",
      "max      76.000000    15.000000    19.000000     3.970000    29.850000   \n",
      "\n",
      "          sealevel  resultspeed    resultdir     avgspeed  \n",
      "count  4616.000000  4616.000000  4616.000000  4616.000000  \n",
      "mean     29.969428     6.070494    17.707972     7.534467  \n",
      "std       0.121830     2.875198     9.547127     2.576904  \n",
      "min      29.600000     0.100000     1.000000     2.100000  \n",
      "25%      29.890000     3.900000     8.000000     5.800000  \n",
      "50%      29.980000     5.800000    19.000000     7.300000  \n",
      "75%      30.050000     7.800000    25.000000     9.400000  \n",
      "max      30.330000    14.600000    36.000000    15.000000  \n",
      "\n",
      "[8 rows x 25 columns]\n",
      "Date\n",
      "95\n",
      "Trap\n",
      "136\n",
      "NumMosquitos\n",
      "245\n",
      "WnvPresent\n",
      "2\n",
      "Year\n",
      "4\n",
      "DayofYear\n",
      "77\n",
      "CULEX ERRATICUS\n",
      "2\n",
      "CULEX PIPIENS\n",
      "2\n",
      "CULEX PIPIENS/RESTUANS\n",
      "2\n",
      "CULEX RESTUANS\n",
      "2\n",
      "CULEX SALINARIUS\n",
      "2\n",
      "CULEX TARSALIS\n",
      "2\n",
      "CULEX TERRITANS\n",
      "2\n",
      "tmax\n",
      "33\n",
      "tmin\n",
      "33\n",
      "tavg\n",
      "31\n",
      "depart\n",
      "28\n",
      "dewpoint\n",
      "32\n",
      "wetbulb\n",
      "30\n",
      "heat\n",
      "14\n",
      "cool\n",
      "18\n",
      "preciptotal\n",
      "30\n",
      "stnpressure\n",
      "38\n",
      "sealevel\n",
      "41\n",
      "resultspeed\n",
      "62\n",
      "resultdir\n",
      "34\n",
      "avgspeed\n",
      "61\n"
     ]
    }
   ],
   "source": [
    "def eda(dataframe):\n",
    "    print \"missing values \\n\", dataframe.isnull().sum()\n",
    "    print \"dataframe index \\n\", dataframe.index\n",
    "    print \"dataframe types \\n\", dataframe.dtypes\n",
    "    print \"dataframe shape \\n\", dataframe.shape\n",
    "    print \"dataframe describe \\n\", dataframe.describe()\n",
    "    for item in dataframe:\n",
    "        print item\n",
    "        print dataframe[item].nunique()\n",
    "\n",
    "eda(df_train_weather_2)"
   ]
  },
  {
   "cell_type": "code",
   "execution_count": 132,
   "metadata": {},
   "outputs": [
    {
     "name": "stdout",
     "output_type": "stream",
     "text": [
      "Optimization terminated successfully.\n",
      "         Current function value: 0.170545\n",
      "         Iterations 10\n"
     ]
    }
   ],
   "source": [
    "# The formula says that the presence of West Nile Virus (wnv) (coded as 1 or 0) DEPENDS on (~) the following attributes:  \n",
    "# Yea, Day of Year, tavg, dewpoint, wetbulb, stnpressure, and sealevel.\n",
    "\n",
    "model = smf.logit(\n",
    "    \"WnvPresent ~ NumMosquitos + Year + DayofYear + tavg_x + dewpoint_x + wetbulb_x + + heat_x + cool_x + stnpressure_x + sealevel_x + avgspeed_x + tavg_y + preciptotal_y + coollast7 + coollast30 + coollast90 + preciplast7 + preciplast30 + preciplast90\",\n",
    "    data = df_train_weather\n",
    ").fit()\n",
    "\n",
    "#).fit(method='bfgs')"
   ]
  },
  {
   "cell_type": "code",
   "execution_count": 139,
   "metadata": {},
   "outputs": [],
   "source": [
    "# # print data.columns\n",
    "# # fml = \"log_glu ~ 0 + bp + skin + age + bmi + type + type_x_bmi + type_x_age + type_x_skin + type_x_bp\"\n",
    "# # mod = sm.OLS.from_formula(fml, data)\n",
    "# # rslt = mod.fit()\n",
    "# # print rslt.summary()\n",
    "\n",
    "# fml = \"WnvPresent ~ NumMosquitos + Year + DayofYear + tavg_x + dewpoint_x + wetbulb_x + + heat_x + cool_x + stnpressure_x + sealevel_x + avgspeed_x + tavg_y + preciptotal_y + coollast7 + coollast30 + coollast90 + preciplast7 + preciplast30 + preciplast90\",\n",
    "\n",
    "# mat = []\n",
    "# alphas = np.arange(0, 0.26, 0.05)\n",
    "# for alpha in alphas:\n",
    "#     mod = sm.OLS.from_formula(fml, df_train_weather)\n",
    "#     rslt = mod.fit_regularized(alpha=alpha)\n",
    "#     mat.append(rslt.params)\n",
    "# mat = pd.DataFrame(mat, index=[str(x) for x in alphas])\n",
    "# print mat.T"
   ]
  },
  {
   "cell_type": "code",
   "execution_count": 133,
   "metadata": {},
   "outputs": [
    {
     "name": "stderr",
     "output_type": "stream",
     "text": [
      "/Users/ncarr/anaconda2/lib/python2.7/site-packages/statsmodels/base/model.py:1029: RuntimeWarning: invalid value encountered in sqrt\n",
      "  return np.sqrt(np.diag(self.cov_params()))\n",
      "/Users/ncarr/anaconda2/lib/python2.7/site-packages/scipy/stats/_distn_infrastructure.py:879: RuntimeWarning: invalid value encountered in greater\n",
      "  return (self.a < x) & (x < self.b)\n",
      "/Users/ncarr/anaconda2/lib/python2.7/site-packages/scipy/stats/_distn_infrastructure.py:879: RuntimeWarning: invalid value encountered in less\n",
      "  return (self.a < x) & (x < self.b)\n",
      "/Users/ncarr/anaconda2/lib/python2.7/site-packages/scipy/stats/_distn_infrastructure.py:1818: RuntimeWarning: invalid value encountered in less_equal\n",
      "  cond2 = cond0 & (x <= self.a)\n"
     ]
    },
    {
     "data": {
      "text/html": [
       "<table class=\"simpletable\">\n",
       "<caption>Logit Regression Results</caption>\n",
       "<tr>\n",
       "  <th>Dep. Variable:</th>    <td>WnvPresent</td>    <th>  No. Observations:  </th>   <td>  8475</td>  \n",
       "</tr>\n",
       "<tr>\n",
       "  <th>Model:</th>               <td>Logit</td>      <th>  Df Residuals:      </th>   <td>  8456</td>  \n",
       "</tr>\n",
       "<tr>\n",
       "  <th>Method:</th>               <td>MLE</td>       <th>  Df Model:          </th>   <td>    18</td>  \n",
       "</tr>\n",
       "<tr>\n",
       "  <th>Date:</th>          <td>Wed, 09 Aug 2017</td> <th>  Pseudo R-squ.:     </th>   <td>0.1875</td>  \n",
       "</tr>\n",
       "<tr>\n",
       "  <th>Time:</th>              <td>13:46:53</td>     <th>  Log-Likelihood:    </th>  <td> -1445.4</td> \n",
       "</tr>\n",
       "<tr>\n",
       "  <th>converged:</th>           <td>True</td>       <th>  LL-Null:           </th>  <td> -1779.0</td> \n",
       "</tr>\n",
       "<tr>\n",
       "  <th> </th>                      <td> </td>        <th>  LLR p-value:       </th> <td>5.069e-130</td>\n",
       "</tr>\n",
       "</table>\n",
       "<table class=\"simpletable\">\n",
       "<tr>\n",
       "        <td></td>           <th>coef</th>     <th>std err</th>      <th>z</th>      <th>P>|z|</th>  <th>[0.025</th>    <th>0.975]</th>  \n",
       "</tr>\n",
       "<tr>\n",
       "  <th>Intercept</th>     <td> -513.9542</td> <td>   42.355</td> <td>  -12.134</td> <td> 0.000</td> <td> -596.969</td> <td> -430.940</td>\n",
       "</tr>\n",
       "<tr>\n",
       "  <th>NumMosquitos</th>  <td>    0.0096</td> <td>    0.001</td> <td>   11.125</td> <td> 0.000</td> <td>    0.008</td> <td>    0.011</td>\n",
       "</tr>\n",
       "<tr>\n",
       "  <th>Year</th>          <td>    0.2186</td> <td>    0.026</td> <td>    8.499</td> <td> 0.000</td> <td>    0.168</td> <td>    0.269</td>\n",
       "</tr>\n",
       "<tr>\n",
       "  <th>DayofYear</th>     <td>   -0.0142</td> <td>    0.007</td> <td>   -2.187</td> <td> 0.029</td> <td>   -0.027</td> <td>   -0.001</td>\n",
       "</tr>\n",
       "<tr>\n",
       "  <th>tavg_x</th>        <td>   -0.7315</td> <td>    0.306</td> <td>   -2.392</td> <td> 0.017</td> <td>   -1.331</td> <td>   -0.132</td>\n",
       "</tr>\n",
       "<tr>\n",
       "  <th>dewpoint_x</th>    <td>    0.2130</td> <td>    0.086</td> <td>    2.462</td> <td> 0.014</td> <td>    0.043</td> <td>    0.382</td>\n",
       "</tr>\n",
       "<tr>\n",
       "  <th>wetbulb_x</th>     <td>   -0.2205</td> <td>    0.162</td> <td>   -1.360</td> <td> 0.174</td> <td>   -0.538</td> <td>    0.097</td>\n",
       "</tr>\n",
       "<tr>\n",
       "  <th>heat_x</th>        <td>   -0.1158</td> <td>    0.038</td> <td>   -3.029</td> <td> 0.002</td> <td>   -0.191</td> <td>   -0.041</td>\n",
       "</tr>\n",
       "<tr>\n",
       "  <th>cool_x</th>        <td>    0.0164</td> <td>    0.059</td> <td>    0.280</td> <td> 0.779</td> <td>   -0.098</td> <td>    0.131</td>\n",
       "</tr>\n",
       "<tr>\n",
       "  <th>stnpressure_x</th> <td>   -6.2502</td> <td>    1.539</td> <td>   -4.060</td> <td> 0.000</td> <td>   -9.267</td> <td>   -3.233</td>\n",
       "</tr>\n",
       "<tr>\n",
       "  <th>sealevel_x</th>    <td>    8.5395</td> <td>      nan</td> <td>      nan</td> <td>   nan</td> <td>      nan</td> <td>      nan</td>\n",
       "</tr>\n",
       "<tr>\n",
       "  <th>avgspeed_x</th>    <td>   -0.0033</td> <td>    0.025</td> <td>   -0.134</td> <td> 0.893</td> <td>   -0.052</td> <td>    0.045</td>\n",
       "</tr>\n",
       "<tr>\n",
       "  <th>tavg_y</th>        <td>    0.2987</td> <td>      nan</td> <td>      nan</td> <td>   nan</td> <td>      nan</td> <td>      nan</td>\n",
       "</tr>\n",
       "<tr>\n",
       "  <th>preciptotal_y</th> <td>    0.2972</td> <td>      nan</td> <td>      nan</td> <td>   nan</td> <td>      nan</td> <td>      nan</td>\n",
       "</tr>\n",
       "<tr>\n",
       "  <th>coollast7</th>     <td>    0.0075</td> <td>    0.003</td> <td>    2.696</td> <td> 0.007</td> <td>    0.002</td> <td>    0.013</td>\n",
       "</tr>\n",
       "<tr>\n",
       "  <th>coollast30</th>    <td>    0.0092</td> <td>      nan</td> <td>      nan</td> <td>   nan</td> <td>      nan</td> <td>      nan</td>\n",
       "</tr>\n",
       "<tr>\n",
       "  <th>coollast90</th>    <td>    0.0068</td> <td>    0.001</td> <td>   11.042</td> <td> 0.000</td> <td>    0.006</td> <td>    0.008</td>\n",
       "</tr>\n",
       "<tr>\n",
       "  <th>preciplast7</th>   <td>   -0.0616</td> <td>    0.028</td> <td>   -2.227</td> <td> 0.026</td> <td>   -0.116</td> <td>   -0.007</td>\n",
       "</tr>\n",
       "<tr>\n",
       "  <th>preciplast30</th>  <td>   -0.1411</td> <td>    0.027</td> <td>   -5.243</td> <td> 0.000</td> <td>   -0.194</td> <td>   -0.088</td>\n",
       "</tr>\n",
       "<tr>\n",
       "  <th>preciplast90</th>  <td>   -0.1255</td> <td>      nan</td> <td>      nan</td> <td>   nan</td> <td>      nan</td> <td>      nan</td>\n",
       "</tr>\n",
       "</table>"
      ],
      "text/plain": [
       "<class 'statsmodels.iolib.summary.Summary'>\n",
       "\"\"\"\n",
       "                           Logit Regression Results                           \n",
       "==============================================================================\n",
       "Dep. Variable:             WnvPresent   No. Observations:                 8475\n",
       "Model:                          Logit   Df Residuals:                     8456\n",
       "Method:                           MLE   Df Model:                           18\n",
       "Date:                Wed, 09 Aug 2017   Pseudo R-squ.:                  0.1875\n",
       "Time:                        13:46:53   Log-Likelihood:                -1445.4\n",
       "converged:                       True   LL-Null:                       -1779.0\n",
       "                                        LLR p-value:                5.069e-130\n",
       "=================================================================================\n",
       "                    coef    std err          z      P>|z|      [0.025      0.975]\n",
       "---------------------------------------------------------------------------------\n",
       "Intercept      -513.9542     42.355    -12.134      0.000    -596.969    -430.940\n",
       "NumMosquitos      0.0096      0.001     11.125      0.000       0.008       0.011\n",
       "Year              0.2186      0.026      8.499      0.000       0.168       0.269\n",
       "DayofYear        -0.0142      0.007     -2.187      0.029      -0.027      -0.001\n",
       "tavg_x           -0.7315      0.306     -2.392      0.017      -1.331      -0.132\n",
       "dewpoint_x        0.2130      0.086      2.462      0.014       0.043       0.382\n",
       "wetbulb_x        -0.2205      0.162     -1.360      0.174      -0.538       0.097\n",
       "heat_x           -0.1158      0.038     -3.029      0.002      -0.191      -0.041\n",
       "cool_x            0.0164      0.059      0.280      0.779      -0.098       0.131\n",
       "stnpressure_x    -6.2502      1.539     -4.060      0.000      -9.267      -3.233\n",
       "sealevel_x        8.5395        nan        nan        nan         nan         nan\n",
       "avgspeed_x       -0.0033      0.025     -0.134      0.893      -0.052       0.045\n",
       "tavg_y            0.2987        nan        nan        nan         nan         nan\n",
       "preciptotal_y     0.2972        nan        nan        nan         nan         nan\n",
       "coollast7         0.0075      0.003      2.696      0.007       0.002       0.013\n",
       "coollast30        0.0092        nan        nan        nan         nan         nan\n",
       "coollast90        0.0068      0.001     11.042      0.000       0.006       0.008\n",
       "preciplast7      -0.0616      0.028     -2.227      0.026      -0.116      -0.007\n",
       "preciplast30     -0.1411      0.027     -5.243      0.000      -0.194      -0.088\n",
       "preciplast90     -0.1255        nan        nan        nan         nan         nan\n",
       "=================================================================================\n",
       "\"\"\""
      ]
     },
     "execution_count": 133,
     "metadata": {},
     "output_type": "execute_result"
    }
   ],
   "source": [
    "model.summary()"
   ]
  },
  {
   "cell_type": "code",
   "execution_count": 36,
   "metadata": {
    "collapsed": true
   },
   "outputs": [],
   "source": [
    "import math"
   ]
  },
  {
   "cell_type": "code",
   "execution_count": 37,
   "metadata": {},
   "outputs": [
    {
     "data": {
      "text/plain": [
       "1.0082337120833602"
      ]
     },
     "execution_count": 37,
     "metadata": {},
     "output_type": "execute_result"
    }
   ],
   "source": [
    "math.exp(0.0082)\n",
    "\n",
    "## As the number of mosquitos increase by 1 unit, we expect that a WNV is 1.008 times *AS* likely to be present.\n",
    "## 1.008 is the ODDS RATIO associating number of mosquitos to the presence of WNV.\n",
    "\n",
    "## e ^ 0.0082 is the ODDS RATIO\n",
    "## 0.0082 is the LOG-ODDS RATIO"
   ]
  },
  {
   "cell_type": "code",
   "execution_count": 40,
   "metadata": {},
   "outputs": [
    {
     "data": {
      "text/plain": [
       "1.0181629763897937"
      ]
     },
     "execution_count": 40,
     "metadata": {},
     "output_type": "execute_result"
    }
   ],
   "source": [
    "math.exp(0.0180)\n",
    "\n",
    "## As the day of year advances by a day, we expect that WNV is 1.018 times *AS* likely to be present.\n",
    "## 1.018 is the ODDS RATIO associating number of mosquitos to the presence of WNV.\n",
    "\n",
    "## e ^ 0.0180 is the ODDS RATIO\n",
    "## 0.0180 is the LOG-ODDS RATIO"
   ]
  },
  {
   "cell_type": "code",
   "execution_count": 82,
   "metadata": {},
   "outputs": [
    {
     "name": "stdout",
     "output_type": "stream",
     "text": [
      "Optimization terminated successfully.\n",
      "         Current function value: 0.254574\n",
      "         Iterations 10\n"
     ]
    }
   ],
   "source": [
    "## LOG MODEL WITHOUT DAY OF YEAR and YEAR VARIABLES\n",
    "\n",
    "model = smf.logit(\n",
    "    \"WnvPresent ~ NumMosquitos + tavg + dewpoint + wetbulb + stnpressure + sealevel\",\n",
    "    data = df_train_weather_2\n",
    ").fit()"
   ]
  },
  {
   "cell_type": "code",
   "execution_count": 83,
   "metadata": {},
   "outputs": [
    {
     "data": {
      "text/html": [
       "<table class=\"simpletable\">\n",
       "<caption>Logit Regression Results</caption>\n",
       "<tr>\n",
       "  <th>Dep. Variable:</th>    <td>WnvPresent</td>    <th>  No. Observations:  </th>  <td>  4616</td>  \n",
       "</tr>\n",
       "<tr>\n",
       "  <th>Model:</th>               <td>Logit</td>      <th>  Df Residuals:      </th>  <td>  4609</td>  \n",
       "</tr>\n",
       "<tr>\n",
       "  <th>Method:</th>               <td>MLE</td>       <th>  Df Model:          </th>  <td>     6</td>  \n",
       "</tr>\n",
       "<tr>\n",
       "  <th>Date:</th>          <td>Sun, 06 Aug 2017</td> <th>  Pseudo R-squ.:     </th>  <td>0.1130</td>  \n",
       "</tr>\n",
       "<tr>\n",
       "  <th>Time:</th>              <td>23:44:12</td>     <th>  Log-Likelihood:    </th> <td> -1175.1</td> \n",
       "</tr>\n",
       "<tr>\n",
       "  <th>converged:</th>           <td>True</td>       <th>  LL-Null:           </th> <td> -1324.8</td> \n",
       "</tr>\n",
       "<tr>\n",
       "  <th> </th>                      <td> </td>        <th>  LLR p-value:       </th> <td>1.077e-61</td>\n",
       "</tr>\n",
       "</table>\n",
       "<table class=\"simpletable\">\n",
       "<tr>\n",
       "        <td></td>          <th>coef</th>     <th>std err</th>      <th>z</th>      <th>P>|z|</th>  <th>[0.025</th>    <th>0.975]</th>  \n",
       "</tr>\n",
       "<tr>\n",
       "  <th>Intercept</th>    <td> -102.0672</td> <td>   18.536</td> <td>   -5.506</td> <td> 0.000</td> <td> -138.398</td> <td>  -65.737</td>\n",
       "</tr>\n",
       "<tr>\n",
       "  <th>NumMosquitos</th> <td>    0.0071</td> <td>    0.001</td> <td>   10.170</td> <td> 0.000</td> <td>    0.006</td> <td>    0.008</td>\n",
       "</tr>\n",
       "<tr>\n",
       "  <th>tavg</th>         <td>    0.0355</td> <td>    0.042</td> <td>    0.854</td> <td> 0.393</td> <td>   -0.046</td> <td>    0.117</td>\n",
       "</tr>\n",
       "<tr>\n",
       "  <th>dewpoint</th>     <td>    0.1488</td> <td>    0.059</td> <td>    2.508</td> <td> 0.012</td> <td>    0.033</td> <td>    0.265</td>\n",
       "</tr>\n",
       "<tr>\n",
       "  <th>wetbulb</th>      <td>   -0.1111</td> <td>    0.104</td> <td>   -1.069</td> <td> 0.285</td> <td>   -0.315</td> <td>    0.093</td>\n",
       "</tr>\n",
       "<tr>\n",
       "  <th>stnpressure</th>  <td>   -3.2357</td> <td>    3.173</td> <td>   -1.020</td> <td> 0.308</td> <td>   -9.455</td> <td>    2.984</td>\n",
       "</tr>\n",
       "<tr>\n",
       "  <th>sealevel</th>     <td>    6.3294</td> <td>    3.198</td> <td>    1.979</td> <td> 0.048</td> <td>    0.062</td> <td>   12.597</td>\n",
       "</tr>\n",
       "</table>"
      ],
      "text/plain": [
       "<class 'statsmodels.iolib.summary.Summary'>\n",
       "\"\"\"\n",
       "                           Logit Regression Results                           \n",
       "==============================================================================\n",
       "Dep. Variable:             WnvPresent   No. Observations:                 4616\n",
       "Model:                          Logit   Df Residuals:                     4609\n",
       "Method:                           MLE   Df Model:                            6\n",
       "Date:                Sun, 06 Aug 2017   Pseudo R-squ.:                  0.1130\n",
       "Time:                        23:44:12   Log-Likelihood:                -1175.1\n",
       "converged:                       True   LL-Null:                       -1324.8\n",
       "                                        LLR p-value:                 1.077e-61\n",
       "================================================================================\n",
       "                   coef    std err          z      P>|z|      [0.025      0.975]\n",
       "--------------------------------------------------------------------------------\n",
       "Intercept     -102.0672     18.536     -5.506      0.000    -138.398     -65.737\n",
       "NumMosquitos     0.0071      0.001     10.170      0.000       0.006       0.008\n",
       "tavg             0.0355      0.042      0.854      0.393      -0.046       0.117\n",
       "dewpoint         0.1488      0.059      2.508      0.012       0.033       0.265\n",
       "wetbulb         -0.1111      0.104     -1.069      0.285      -0.315       0.093\n",
       "stnpressure     -3.2357      3.173     -1.020      0.308      -9.455       2.984\n",
       "sealevel         6.3294      3.198      1.979      0.048       0.062      12.597\n",
       "================================================================================\n",
       "\"\"\""
      ]
     },
     "execution_count": 83,
     "metadata": {},
     "output_type": "execute_result"
    }
   ],
   "source": [
    "model.summary()"
   ]
  },
  {
   "cell_type": "code",
   "execution_count": 84,
   "metadata": {},
   "outputs": [
    {
     "name": "stdout",
     "output_type": "stream",
     "text": [
      "                       0          1\n",
      "Intercept    -138.397595 -65.736745\n",
      "NumMosquitos    0.005725   0.008459\n",
      "tavg           -0.045943   0.116855\n",
      "dewpoint        0.032500   0.265112\n",
      "wetbulb        -0.314743   0.092556\n",
      "stnpressure    -9.455407   2.983984\n",
      "sealevel        0.062124  12.596669\n"
     ]
    }
   ],
   "source": [
    "print model.conf_int()"
   ]
  },
  {
   "cell_type": "code",
   "execution_count": 34,
   "metadata": {},
   "outputs": [
    {
     "name": "stdout",
     "output_type": "stream",
     "text": [
      "Optimization terminated successfully.\n",
      "         Current function value: 0.266917\n",
      "         Iterations: 19\n",
      "         Function evaluations: 27\n",
      "         Gradient evaluations: 27\n"
     ]
    }
   ],
   "source": [
    "## LOG MODEL WITHOUT STNPRESSURE and SEALEVEL\n",
    "\n",
    "model = smf.logit(\n",
    "    \"WnvPresent ~ DayofYear + dewpoint\",\n",
    "    data = df_train_weather_2\n",
    ").fit(method='bfgs')\n",
    "\n",
    "# model = smf.logit(\n",
    "#     \"WnvPresent ~ DayofYear + dewpoint + Trap\",\n",
    "#     data = df_train_weather_2\n",
    "# ).fit()"
   ]
  },
  {
   "cell_type": "code",
   "execution_count": 35,
   "metadata": {},
   "outputs": [
    {
     "data": {
      "text/html": [
       "<table class=\"simpletable\">\n",
       "<caption>Logit Regression Results</caption>\n",
       "<tr>\n",
       "  <th>Dep. Variable:</th>    <td>WnvPresent</td>    <th>  No. Observations:  </th>  <td>  4616</td>  \n",
       "</tr>\n",
       "<tr>\n",
       "  <th>Model:</th>               <td>Logit</td>      <th>  Df Residuals:      </th>  <td>  4613</td>  \n",
       "</tr>\n",
       "<tr>\n",
       "  <th>Method:</th>               <td>MLE</td>       <th>  Df Model:          </th>  <td>     2</td>  \n",
       "</tr>\n",
       "<tr>\n",
       "  <th>Date:</th>          <td>Tue, 08 Aug 2017</td> <th>  Pseudo R-squ.:     </th>  <td>0.07000</td> \n",
       "</tr>\n",
       "<tr>\n",
       "  <th>Time:</th>              <td>16:45:22</td>     <th>  Log-Likelihood:    </th> <td> -1232.1</td> \n",
       "</tr>\n",
       "<tr>\n",
       "  <th>converged:</th>           <td>True</td>       <th>  LL-Null:           </th> <td> -1324.8</td> \n",
       "</tr>\n",
       "<tr>\n",
       "  <th> </th>                      <td> </td>        <th>  LLR p-value:       </th> <td>5.271e-41</td>\n",
       "</tr>\n",
       "</table>\n",
       "<table class=\"simpletable\">\n",
       "<tr>\n",
       "      <td></td>         <th>coef</th>     <th>std err</th>      <th>z</th>      <th>P>|z|</th>  <th>[0.025</th>    <th>0.975]</th>  \n",
       "</tr>\n",
       "<tr>\n",
       "  <th>Intercept</th> <td>  -11.4193</td> <td>    0.777</td> <td>  -14.701</td> <td> 0.000</td> <td>  -12.942</td> <td>   -9.897</td>\n",
       "</tr>\n",
       "<tr>\n",
       "  <th>DayofYear</th> <td>    0.0196</td> <td>    0.002</td> <td>    9.799</td> <td> 0.000</td> <td>    0.016</td> <td>    0.024</td>\n",
       "</tr>\n",
       "<tr>\n",
       "  <th>dewpoint</th>  <td>    0.0756</td> <td>    0.008</td> <td>    9.427</td> <td> 0.000</td> <td>    0.060</td> <td>    0.091</td>\n",
       "</tr>\n",
       "</table>"
      ],
      "text/plain": [
       "<class 'statsmodels.iolib.summary.Summary'>\n",
       "\"\"\"\n",
       "                           Logit Regression Results                           \n",
       "==============================================================================\n",
       "Dep. Variable:             WnvPresent   No. Observations:                 4616\n",
       "Model:                          Logit   Df Residuals:                     4613\n",
       "Method:                           MLE   Df Model:                            2\n",
       "Date:                Tue, 08 Aug 2017   Pseudo R-squ.:                 0.07000\n",
       "Time:                        16:45:22   Log-Likelihood:                -1232.1\n",
       "converged:                       True   LL-Null:                       -1324.8\n",
       "                                        LLR p-value:                 5.271e-41\n",
       "==============================================================================\n",
       "                 coef    std err          z      P>|z|      [0.025      0.975]\n",
       "------------------------------------------------------------------------------\n",
       "Intercept    -11.4193      0.777    -14.701      0.000     -12.942      -9.897\n",
       "DayofYear      0.0196      0.002      9.799      0.000       0.016       0.024\n",
       "dewpoint       0.0756      0.008      9.427      0.000       0.060       0.091\n",
       "==============================================================================\n",
       "\"\"\""
      ]
     },
     "execution_count": 35,
     "metadata": {},
     "output_type": "execute_result"
    }
   ],
   "source": [
    "model.summary()"
   ]
  },
  {
   "cell_type": "code",
   "execution_count": 36,
   "metadata": {},
   "outputs": [
    {
     "name": "stdout",
     "output_type": "stream",
     "text": [
      "Optimization terminated successfully.\n",
      "         Current function value: 0.266917\n",
      "         Iterations: 19\n",
      "         Function evaluations: 27\n",
      "         Gradient evaluations: 27\n"
     ]
    }
   ],
   "source": [
    "# #generating median salary predictions for unsalaried job postings\n",
    "# predict_y = logreg.predict(predict_X)   \n",
    "# predict_data[\"salary_prediction\"] = predict_y\n",
    "# predict_data.head()\n",
    "\n",
    "model = smf.logit(\n",
    "    \"WnvPresent ~ DayofYear + dewpoint\",\n",
    "    data = df_train_weather_2\n",
    ").fit(method='bfgs')\n",
    "\n",
    "# male_logit = logit(formula = 'Male \\~ Height + Weight', df = heights_weights).fit()\n",
    "# print male_logit.summary()"
   ]
  },
  {
   "cell_type": "markdown",
   "metadata": {},
   "source": [
    "# START SCATTER\n",
    "http://nbviewer.jupyter.org/github/carljv/Will_it_Python/blob/master/MLFH/CH2/ch2_with_formulas.ipynb\n"
   ]
  },
  {
   "cell_type": "code",
   "execution_count": 38,
   "metadata": {},
   "outputs": [
    {
     "name": "stdout",
     "output_type": "stream",
     "text": [
      "Optimization terminated successfully.\n",
      "         Current function value: 0.266917\n",
      "         Iterations: 19\n",
      "         Function evaluations: 27\n",
      "         Gradient evaluations: 27\n"
     ]
    }
   ],
   "source": [
    "\n",
    "# heights_weights['Male'] = heights_weights['Gender'].map({'Male': 1, 'Female': 0})\n",
    "# male_logit = logit(formula = 'Male ~ Height + Weight', df = heights_weights).fit()\n",
    "# print male_logit.summary()\n",
    "\n",
    "# df_train_weather_2['wnv_yes'] = df_train_weather_2['WnvPresent'].map({'wnv_yes': 1, 'wnv_no': 0})\n",
    "# wnv_yes_logit = logit(formula = 'wnv_yes ~ day + dew', df = df_train_weather_2).fit()\n",
    "# print wnv_yes_logit.summary()\n",
    "\n",
    "model = smf.logit(\n",
    "    \"WnvPresent ~ DayofYear + dewpoint\",\n",
    "    data = df_train_weather_2\n",
    ").fit(method='bfgs')"
   ]
  },
  {
   "cell_type": "code",
   "execution_count": 39,
   "metadata": {
    "collapsed": true
   },
   "outputs": [],
   "source": [
    "logit_pars = model.params\n",
    "intercept = -logit_pars['Intercept'] / logit_pars['dewpoint']\n",
    "slope =  -logit_pars['DayofYear'] / logit_pars['dewpoint']"
   ]
  },
  {
   "cell_type": "code",
   "execution_count": 145,
   "metadata": {},
   "outputs": [],
   "source": [
    "# heights_m = heights[heights_weights['Gender'] == 'Male'].values\n",
    "# heights_f = heights[heights_weights['Gender'] == 'Female'].values\n",
    "\n",
    "# weights_m = heights_weights[heights_weights['Gender'] == 'Male']['Weight'].values\n",
    "# weights_f = heights_weights[heights_weights['Gender'] == 'Female']['Weight'].values\n",
    "\n",
    "day_mosq = df_train_weather_2[df_train_weather_2['WnvPresent'] == 1]['DayofYear'].values\n",
    "day_nomosq = df_train_weather_2[df_train_weather_2['WnvPresent'] == 0]['DayofYear'].values\n",
    "\n",
    "dewp_mosq = df_train_weather_2[df_train_weather_2['WnvPresent'] == 1]['dewpoint'].values\n",
    "dewp_nomosq = df_train_weather_2[df_train_weather_2['WnvPresent'] == 0]['dewpoint'].values\n"
   ]
  },
  {
   "cell_type": "code",
   "execution_count": 142,
   "metadata": {},
   "outputs": [
    {
     "data": {
      "text/plain": [
       "array([199, 206, 213, 213, 213, 213, 213, 213, 213, 213, 213, 213, 213,\n",
       "       213, 213, 213, 214, 214, 214, 219, 219, 219, 219, 219, 219, 219,\n",
       "       219, 219, 220, 220, 220, 220, 221, 227, 227, 227, 227, 227, 227,\n",
       "       227, 227, 227, 227, 227, 227, 227, 227, 227, 227, 227, 227, 227,\n",
       "       227, 227, 227, 227, 227, 227, 227, 228, 228, 228, 229, 229, 229,\n",
       "       229, 233, 233, 233, 233, 233, 233, 233, 233, 233, 233, 233, 233,\n",
       "       233, 233, 233, 233, 233, 233, 233, 233, 233, 233, 233, 233, 234,\n",
       "       234, 234, 234, 234, 234, 234, 234, 234, 234, 234, 234, 234, 234,\n",
       "       236, 236, 236, 236, 236, 236, 236, 236, 236, 236, 236, 236, 236,\n",
       "       236, 236, 236, 236, 236, 236, 236, 240, 240, 240, 240, 240, 240,\n",
       "       247, 247, 247, 247, 247, 247, 248, 248, 248, 248, 248, 248, 248,\n",
       "       248, 249, 249, 255, 255, 255, 255, 255, 262, 267, 277, 277, 205,\n",
       "       205, 208, 212, 225, 225, 237, 237, 237, 237, 237, 237, 246, 257,\n",
       "       257, 257, 268, 206, 206, 210, 210, 210, 210, 210, 217, 217, 217,\n",
       "       224, 224, 224, 224, 224, 224, 231, 231, 231, 238, 238, 238, 238,\n",
       "       244, 244, 244, 244, 245, 245, 245, 255, 255, 255, 255, 255, 259,\n",
       "       259, 259, 266, 266, 266, 266, 266, 266, 179, 193, 193, 193, 193,\n",
       "       193, 193, 200, 200, 200, 200, 200, 200, 200, 200, 200, 200, 200,\n",
       "       200, 206, 206, 213, 213, 213, 213, 213, 213, 213, 213, 213, 213,\n",
       "       213, 220, 220, 220, 220, 220, 220, 220, 220, 220, 220, 220, 220,\n",
       "       220, 220, 220, 220, 220, 220, 220, 220, 220, 220, 220, 220, 227,\n",
       "       227, 227, 227, 227, 227, 227, 227, 227, 227, 227, 227, 227, 227,\n",
       "       227, 234, 234, 234, 234, 234, 234, 234, 234, 234, 234, 234, 234,\n",
       "       234, 234, 234, 234, 234, 234, 234, 234, 234, 234, 234, 241, 241,\n",
       "       241, 241, 241, 241, 241, 241, 241, 241, 241, 241, 241, 241, 241,\n",
       "       241, 241, 241, 241, 241, 241, 241, 249, 249, 249, 249, 249, 249,\n",
       "       249, 249, 249, 249, 249, 249, 249, 249, 249, 249, 249, 249, 249,\n",
       "       249, 249, 255, 255, 255, 255, 255, 255, 255, 255, 255, 255, 255,\n",
       "       255, 255, 255, 255, 255, 255, 255, 255, 262, 262, 262, 262, 262,\n",
       "       262, 262, 262, 262, 269, 269, 269, 269])"
      ]
     },
     "execution_count": 142,
     "metadata": {},
     "output_type": "execute_result"
    }
   ],
   "source": [
    "day_mosq"
   ]
  },
  {
   "cell_type": "code",
   "execution_count": 143,
   "metadata": {},
   "outputs": [
    {
     "data": {
      "text/plain": [
       "array([149, 149, 149, ..., 269, 269, 269])"
      ]
     },
     "execution_count": 143,
     "metadata": {},
     "output_type": "execute_result"
    }
   ],
   "source": [
    "day_nomosq"
   ]
  },
  {
   "cell_type": "code",
   "execution_count": 96,
   "metadata": {},
   "outputs": [],
   "source": [
    "wnv = df_train_weather_2['WnvPresent']\n",
    "day = df_train_weather_2['DayofYear']\n",
    "dew = df_train_weather_2['wetbulb']"
   ]
  },
  {
   "cell_type": "code",
   "execution_count": 97,
   "metadata": {},
   "outputs": [
    {
     "data": {
      "text/plain": [
       "['Date',\n",
       " 'Trap',\n",
       " 'NumMosquitos',\n",
       " 'WnvPresent',\n",
       " 'Year',\n",
       " 'DayofYear',\n",
       " 'CULEX ERRATICUS',\n",
       " 'CULEX PIPIENS',\n",
       " 'CULEX PIPIENS/RESTUANS',\n",
       " 'CULEX RESTUANS',\n",
       " 'CULEX SALINARIUS',\n",
       " 'CULEX TARSALIS',\n",
       " 'CULEX TERRITANS',\n",
       " 'tmax',\n",
       " 'tmin',\n",
       " 'tavg',\n",
       " 'depart',\n",
       " 'dewpoint',\n",
       " 'wetbulb',\n",
       " 'heat',\n",
       " 'cool',\n",
       " 'preciptotal',\n",
       " 'stnpressure',\n",
       " 'sealevel',\n",
       " 'resultspeed',\n",
       " 'resultdir',\n",
       " 'avgspeed']"
      ]
     },
     "execution_count": 97,
     "metadata": {},
     "output_type": "execute_result"
    }
   ],
   "source": [
    "list(df_train_weather_2)"
   ]
  },
  {
   "cell_type": "code",
   "execution_count": 116,
   "metadata": {},
   "outputs": [
    {
     "data": {
      "text/plain": [
       "<matplotlib.axes._subplots.AxesSubplot at 0x11bf4db10>"
      ]
     },
     "execution_count": 116,
     "metadata": {},
     "output_type": "execute_result"
    },
    {
     "data": {
      "image/png": "[encoded data removed]",
      "text/plain": [
       "<matplotlib.figure.Figure at 0x115e1b390>"
      ]
     },
     "metadata": {},
     "output_type": "display_data"
    }
   ],
   "source": [
    "df_train_weather_2.plot(kind = 'scatter', x ='DayofYear',y ='dewpoint')"
   ]
  },
  {
   "cell_type": "code",
   "execution_count": 115,
   "metadata": {},
   "outputs": [
    {
     "data": {
      "text/plain": [
       "<matplotlib.axes._subplots.AxesSubplot at 0x112510090>"
      ]
     },
     "execution_count": 115,
     "metadata": {},
     "output_type": "execute_result"
    },
    {
     "data": {
      "image/png": "[encoded data removed]",
      "text/plain": [
       "<matplotlib.figure.Figure at 0x115e9d710>"
      ]
     },
     "metadata": {},
     "output_type": "display_data"
    }
   ],
   "source": [
    "df_train_weather_2.plot(kind = 'scatter', x ='NumMosquitos',y ='wetbulb')"
   ]
  },
  {
   "cell_type": "code",
   "execution_count": 119,
   "metadata": {},
   "outputs": [
    {
     "data": {
      "text/plain": [
       "<matplotlib.axes._subplots.AxesSubplot at 0x11c098d50>"
      ]
     },
     "execution_count": 119,
     "metadata": {},
     "output_type": "execute_result"
    },
    {
     "data": {
      "image/png": "[encoded data removed]",
      "text/plain": [
       "<matplotlib.figure.Figure at 0x11c084190>"
      ]
     },
     "metadata": {},
     "output_type": "display_data"
    }
   ],
   "source": [
    "df_train_weather_2.plot(kind = 'scatter', x ='NumMosquitos',y ='WnvPresent')"
   ]
  },
  {
   "cell_type": "code",
   "execution_count": null,
   "metadata": {
    "collapsed": true
   },
   "outputs": [],
   "source": []
  },
  {
   "cell_type": "code",
   "execution_count": 150,
   "metadata": {
    "scrolled": true
   },
   "outputs": [
    {
     "data": {
      "text/plain": [
       "<matplotlib.axes._subplots.AxesSubplot at 0x12743f3d0>"
      ]
     },
     "execution_count": 150,
     "metadata": {},
     "output_type": "execute_result"
    },
    {
     "data": {
      "image/png": "[encoded data removed]",
      "text/plain": [
       "<matplotlib.figure.Figure at 0x127455910>"
      ]
     },
     "metadata": {},
     "output_type": "display_data"
    }
   ],
   "source": [
    "df_train_weather_2.plot(kind = 'scatter', x ='DayofYear',y ='dewpoint')"
   ]
  },
  {
   "cell_type": "code",
   "execution_count": 148,
   "metadata": {},
   "outputs": [
    {
     "data": {
      "text/plain": [
       "<matplotlib.legend.Legend at 0x1276dd5d0>"
      ]
     },
     "execution_count": 148,
     "metadata": {},
     "output_type": "execute_result"
    },
    {
     "data": {
      "image/png": "[encoded data removed]",
      "text/plain": [
       "<matplotlib.figure.Figure at 0x1274dd5d0>"
      ]
     },
     "metadata": {},
     "output_type": "display_data"
    }
   ],
   "source": [
    "# fig = plt.figure(figsize = (10, 8))\n",
    "# # Women points (coral)\n",
    "# plt.plot(heights_f, weights_f, '.', label = 'Female', \n",
    "#          mfc = 'None', mec='coral', alpha = .4)\n",
    "# # Men points (blue)\n",
    "# plt.plot(heights_m, weights_m, '.', label = 'Male', \n",
    "#          mfc = 'None', mec='steelblue', alpha = .4)\n",
    "# # The separating line\n",
    "# plt.plot(array([50, 80]), intercept + slope * array([50, 80]), \n",
    "#          '-', color = '#461B7E')\n",
    "# plt.xlabel('Height (in.)')\n",
    "# plt.ylabel('Weight (lbs.)')\n",
    "# plt.legend(loc='upper left')\n",
    "\n",
    "\n",
    "\n",
    "\n",
    "fig = plt.figure(figsize = (10, 8))\n",
    "# MOSQ points (coral)\n",
    "plt.plot(day_mosq, dewp_mosq, '.', label = 'WNV_MOSQ', \n",
    "         mec='coral', alpha = .4)\n",
    "\n",
    "# NO_MOSQ points (blue)\n",
    "# plt.plot(day_nomosq, dewp_nomosq, '.', label = 'WNV_NO_MOSQ', \n",
    "#          mfc = 'None', mec='steelblue', alpha = .4)\n",
    "plt.plot(day_nomosq, dewp_nomosq, '.', label = 'WNV_NO_MOSQ', \n",
    "         mec='steelblue', alpha = .4)\n",
    "\n",
    "# The separating line\n",
    "plt.plot(array([0, 365]), intercept + slope * array([0, 80]), \n",
    "         '-', color = '#461B7E')\n",
    "plt.xlabel('DAY OF YEAR')\n",
    "plt.ylabel('DEWPOINT')\n",
    "plt.legend(loc='upper left')"
   ]
  },
  {
   "cell_type": "code",
   "execution_count": 24,
   "metadata": {},
   "outputs": [],
   "source": [
    "from statsmodels.nonparametric.smoothers_lowess import lowess\n",
    "\n",
    "lowess_line = lowess(wnv, dew)"
   ]
  },
  {
   "cell_type": "code",
   "execution_count": 26,
   "metadata": {},
   "outputs": [
    {
     "ename": "KeyError",
     "evalue": "'dew'",
     "output_type": "error",
     "traceback": [
      "\u001b[0;31m---------------------------------------------------------------------------\u001b[0m",
      "\u001b[0;31mKeyError\u001b[0m                                  Traceback (most recent call last)",
      "\u001b[0;32m<ipython-input-26-ca2dd3a1df9a>\u001b[0m in \u001b[0;36m<module>\u001b[0;34m()\u001b[0m\n\u001b[1;32m      4\u001b[0m \u001b[0;34m\u001b[0m\u001b[0m\n\u001b[1;32m      5\u001b[0m \u001b[0mlogit_pars\u001b[0m \u001b[0;34m=\u001b[0m \u001b[0mmodel\u001b[0m\u001b[0;34m.\u001b[0m\u001b[0mparams\u001b[0m\u001b[0;34m\u001b[0m\u001b[0m\n\u001b[0;32m----> 6\u001b[0;31m \u001b[0mintercept\u001b[0m \u001b[0;34m=\u001b[0m \u001b[0;34m-\u001b[0m\u001b[0mlogit_pars\u001b[0m\u001b[0;34m[\u001b[0m\u001b[0;34m'Intercept'\u001b[0m\u001b[0;34m]\u001b[0m \u001b[0;34m/\u001b[0m \u001b[0mlogit_pars\u001b[0m\u001b[0;34m[\u001b[0m\u001b[0;34m'dew'\u001b[0m\u001b[0;34m]\u001b[0m\u001b[0;34m\u001b[0m\u001b[0m\n\u001b[0m\u001b[1;32m      7\u001b[0m \u001b[0mslope\u001b[0m \u001b[0;34m=\u001b[0m  \u001b[0;34m-\u001b[0m\u001b[0mlogit_pars\u001b[0m\u001b[0;34m[\u001b[0m\u001b[0;34m'dew'\u001b[0m\u001b[0;34m]\u001b[0m \u001b[0;34m/\u001b[0m \u001b[0mlogit_pars\u001b[0m\u001b[0;34m[\u001b[0m\u001b[0;34m'dew'\u001b[0m\u001b[0;34m]\u001b[0m\u001b[0;34m\u001b[0m\u001b[0m\n",
      "\u001b[0;32m/Users/ncarr/anaconda2/lib/python2.7/site-packages/pandas/core/series.pyc\u001b[0m in \u001b[0;36m__getitem__\u001b[0;34m(self, key)\u001b[0m\n\u001b[1;32m    599\u001b[0m         \u001b[0mkey\u001b[0m \u001b[0;34m=\u001b[0m \u001b[0mcom\u001b[0m\u001b[0;34m.\u001b[0m\u001b[0m_apply_if_callable\u001b[0m\u001b[0;34m(\u001b[0m\u001b[0mkey\u001b[0m\u001b[0;34m,\u001b[0m \u001b[0mself\u001b[0m\u001b[0;34m)\u001b[0m\u001b[0;34m\u001b[0m\u001b[0m\n\u001b[1;32m    600\u001b[0m         \u001b[0;32mtry\u001b[0m\u001b[0;34m:\u001b[0m\u001b[0;34m\u001b[0m\u001b[0m\n\u001b[0;32m--> 601\u001b[0;31m             \u001b[0mresult\u001b[0m \u001b[0;34m=\u001b[0m \u001b[0mself\u001b[0m\u001b[0;34m.\u001b[0m\u001b[0mindex\u001b[0m\u001b[0;34m.\u001b[0m\u001b[0mget_value\u001b[0m\u001b[0;34m(\u001b[0m\u001b[0mself\u001b[0m\u001b[0;34m,\u001b[0m \u001b[0mkey\u001b[0m\u001b[0;34m)\u001b[0m\u001b[0;34m\u001b[0m\u001b[0m\n\u001b[0m\u001b[1;32m    602\u001b[0m \u001b[0;34m\u001b[0m\u001b[0m\n\u001b[1;32m    603\u001b[0m             \u001b[0;32mif\u001b[0m \u001b[0;32mnot\u001b[0m \u001b[0mis_scalar\u001b[0m\u001b[0;34m(\u001b[0m\u001b[0mresult\u001b[0m\u001b[0;34m)\u001b[0m\u001b[0;34m:\u001b[0m\u001b[0;34m\u001b[0m\u001b[0m\n",
      "\u001b[0;32m/Users/ncarr/anaconda2/lib/python2.7/site-packages/pandas/core/indexes/base.pyc\u001b[0m in \u001b[0;36mget_value\u001b[0;34m(self, series, key)\u001b[0m\n\u001b[1;32m   2440\u001b[0m                     \u001b[0;32mraise\u001b[0m \u001b[0mInvalidIndexError\u001b[0m\u001b[0;34m(\u001b[0m\u001b[0mkey\u001b[0m\u001b[0;34m)\u001b[0m\u001b[0;34m\u001b[0m\u001b[0m\n\u001b[1;32m   2441\u001b[0m                 \u001b[0;32melse\u001b[0m\u001b[0;34m:\u001b[0m\u001b[0;34m\u001b[0m\u001b[0m\n\u001b[0;32m-> 2442\u001b[0;31m                     \u001b[0;32mraise\u001b[0m \u001b[0me1\u001b[0m\u001b[0;34m\u001b[0m\u001b[0m\n\u001b[0m\u001b[1;32m   2443\u001b[0m             \u001b[0;32mexcept\u001b[0m \u001b[0mException\u001b[0m\u001b[0;34m:\u001b[0m  \u001b[0;31m# pragma: no cover\u001b[0m\u001b[0;34m\u001b[0m\u001b[0m\n\u001b[1;32m   2444\u001b[0m                 \u001b[0;32mraise\u001b[0m \u001b[0me1\u001b[0m\u001b[0;34m\u001b[0m\u001b[0m\n",
      "\u001b[0;31mKeyError\u001b[0m: 'dew'"
     ]
    }
   ],
   "source": [
    "# logit_pars = male_logit.params\n",
    "# intercept = -logit_pars['Intercept'] / logit_pars['Weight']\n",
    "# slope =  -logit_pars['Height'] / logit_pars['Weight']\n",
    "\n",
    "logit_pars = model.params\n",
    "intercept = -logit_pars['Intercept'] / logit_pars['dew']\n",
    "slope =  -logit_pars['dew'] / logit_pars['dew']\n"
   ]
  },
  {
   "cell_type": "markdown",
   "metadata": {},
   "source": [
    "# END SCATTER\n",
    "http://nbviewer.jupyter.org/github/carljv/Will_it_Python/blob/master/MLFH/CH2/ch2_with_formulas.ipynb"
   ]
  },
  {
   "cell_type": "code",
   "execution_count": 19,
   "metadata": {},
   "outputs": [
    {
     "data": {
      "text/plain": [
       "<matplotlib.legend.Legend at 0x10f5b6210>"
      ]
     },
     "execution_count": 19,
     "metadata": {},
     "output_type": "execute_result"
    },
    {
     "data": {
      "image/png": "[encoded data removed]",
      "text/plain": [
       "<matplotlib.figure.Figure at 0x1038ee510>"
      ]
     },
     "metadata": {},
     "output_type": "display_data"
    }
   ],
   "source": [
    "plt.figure(figsize = (10, 10))\n",
    "plt.plot(wnv, dew, '.', mfc = 'steelblue', mew=0, alpha = .25)\n",
    "plt.plot(lowess_line[:,0], lowess_line[:, 1],  '-', lw = 2,\n",
    "         color = '#461B7E', label = \"Lowess fit\")\n",
    "plt.legend(loc = \"upper left\")"
   ]
  },
  {
   "cell_type": "code",
   "execution_count": 85,
   "metadata": {},
   "outputs": [
    {
     "data": {
      "text/plain": [
       "<matplotlib.legend.Legend at 0x11d628d90>"
      ]
     },
     "execution_count": 85,
     "metadata": {},
     "output_type": "execute_result"
    },
    {
     "data": {
      "image/png": "[encoded data removed]",
      "text/plain": [
       "<matplotlib.figure.Figure at 0x11d4688d0>"
      ]
     },
     "metadata": {},
     "output_type": "display_data"
    }
   ],
   "source": [
    "fig = plt.figure(figsize = (10, 8))\n",
    "# NoMosq points (coral)\n",
    "plt.plot(day_mosq, dewp_mosq, '.', label = 'mosquitos!',\n",
    "mfc = 'None', mec='coral', alpha = .4)\n",
    "# Mosq points (blue)\n",
    "plt.plot(day_nomosq, dewp_nomosq, '.', label = 'no_mosquitos!',\n",
    "mfc = 'None', mec='steelblue', alpha = .4)\n",
    "# The separating line\n",
    "#plt.plot(array([50, 80]), intercept + slope * array([50, 80]), '-', color = '#461B7E')\n",
    "plt.plot(df_train_weather_2['dewpoint'], df_train_weather_2['DayofYear'], color = '#461B7E')\n",
    "plt.xlabel('Dewpoint')\n",
    "plt.ylabel('Day of Year')\n",
    "plt.legend(loc='upper right')"
   ]
  },
  {
   "cell_type": "code",
   "execution_count": null,
   "metadata": {
    "collapsed": true
   },
   "outputs": [],
   "source": []
  },
  {
   "cell_type": "code",
   "execution_count": null,
   "metadata": {
    "collapsed": true
   },
   "outputs": [],
   "source": []
  },
  {
   "cell_type": "code",
   "execution_count": null,
   "metadata": {
    "collapsed": true
   },
   "outputs": [],
   "source": []
  },
  {
   "cell_type": "code",
   "execution_count": null,
   "metadata": {
    "collapsed": true
   },
   "outputs": [],
   "source": []
  },
  {
   "cell_type": "code",
   "execution_count": null,
   "metadata": {
    "collapsed": true
   },
   "outputs": [],
   "source": [
    "# city_predictions = pd.DataFrame(df_train_weather_2[[\"city\", \"salary_prediction\"]])\n",
    "# city_predictions['median_salary_prediction'] = city_predictions.salary_prediction.map({0:\"below_median\", 1:\"above_median\"})\n",
    "# sns.countplot(x=\"city\", hue=\"median_salary_prediction\", data=city_predictions)\n",
    "# plt.ylabel(\"Number of Job Postings\")\n",
    "# plt.xticks(rotation=45)\n",
    "# sns.plt.title('Plot of Salary Predictions by City (8 variable log regression)')\n",
    "# plt.show()\n",
    "\n",
    "WNV_predictions = pd.DataFrame(predict_data[[\"WnvPresent\", \"DayofYear\", \"dewpoint\"]])\n",
    "WNV_predictions['median_salary_prediction'] = city_predictions.salary_prediction.map({0:\"below_median\", 1:\"above_median\"})\n",
    "sns.countplot(x=\"city\", hue=\"median_salary_prediction\", data=city_predictions)\n",
    "plt.ylabel(\"Number of Job Postings\")\n",
    "plt.xticks(rotation=45)\n",
    "sns.plt.title('Plot of Salary Predictions by City (8 variable log regression)')\n",
    "plt.show()\n"
   ]
  },
  {
   "cell_type": "code",
   "execution_count": null,
   "metadata": {
    "collapsed": true
   },
   "outputs": [],
   "source": []
  },
  {
   "cell_type": "code",
   "execution_count": 90,
   "metadata": {
    "collapsed": true
   },
   "outputs": [],
   "source": [
    "## CREATING DATAFRAME OF ONLY SPECIES DUMMY VARIABLES\n",
    "\n",
    "species = ['WnvPresent', 'CULEX ERRATICUS', 'CULEX PIPIENS', 'CULEX PIPIENS/RESTUANS', 'CULEX RESTUANS', 'CULEX SALINARIUS', 'CULEX TARSALIS', 'CULEX TERRITANS']\n",
    "df_species = df_train_weather_2[species]"
   ]
  },
  {
   "cell_type": "code",
   "execution_count": 91,
   "metadata": {
    "collapsed": true
   },
   "outputs": [],
   "source": [
    "# RENAMING SPECIES COLUMNS\n",
    "\n",
    "df_species.rename(columns={'CULEX ERRATICUS': 'CULEX_ERRATICUS'}, inplace=True)\n",
    "df_species.rename(columns={'CULEX PIPIENS': 'CULEX_PIPIENS'}, inplace=True)\n",
    "df_species.rename(columns={'CULEX PIPIENS/RESTUANS': 'CULEX_PIPIENS_RESTUANS'}, inplace=True)\n",
    "df_species.rename(columns={'CULEX RESTUANS': 'CULEX_RESTUANS'}, inplace=True)\n",
    "df_species.rename(columns={'CULEX SALINARIUS': 'CULEX_SALINARIUS'}, inplace=True)\n",
    "df_species.rename(columns={'CULEX TARSALIS': 'CULEX_TARSALIS'}, inplace=True)\n",
    "df_species.rename(columns={'CULEX TERRITANS': 'CULEX_TERRITANS'}, inplace=True)"
   ]
  },
  {
   "cell_type": "code",
   "execution_count": 92,
   "metadata": {},
   "outputs": [
    {
     "data": {
      "text/html": [
       "<div>\n",
       "<style>\n",
       "    .dataframe thead tr:only-child th {\n",
       "        text-align: right;\n",
       "    }\n",
       "\n",
       "    .dataframe thead th {\n",
       "        text-align: left;\n",
       "    }\n",
       "\n",
       "    .dataframe tbody tr th {\n",
       "        vertical-align: top;\n",
       "    }\n",
       "</style>\n",
       "<table border=\"1\" class=\"dataframe\">\n",
       "  <thead>\n",
       "    <tr style=\"text-align: right;\">\n",
       "      <th></th>\n",
       "      <th>WnvPresent</th>\n",
       "      <th>CULEX_ERRATICUS</th>\n",
       "      <th>CULEX_PIPIENS</th>\n",
       "      <th>CULEX_PIPIENS_RESTUANS</th>\n",
       "      <th>CULEX_RESTUANS</th>\n",
       "      <th>CULEX_SALINARIUS</th>\n",
       "      <th>CULEX_TARSALIS</th>\n",
       "      <th>CULEX_TERRITANS</th>\n",
       "    </tr>\n",
       "  </thead>\n",
       "  <tbody>\n",
       "    <tr>\n",
       "      <th>0</th>\n",
       "      <td>0</td>\n",
       "      <td>0</td>\n",
       "      <td>0</td>\n",
       "      <td>1</td>\n",
       "      <td>1</td>\n",
       "      <td>0</td>\n",
       "      <td>0</td>\n",
       "      <td>0</td>\n",
       "    </tr>\n",
       "    <tr>\n",
       "      <th>1</th>\n",
       "      <td>0</td>\n",
       "      <td>0</td>\n",
       "      <td>0</td>\n",
       "      <td>0</td>\n",
       "      <td>1</td>\n",
       "      <td>0</td>\n",
       "      <td>0</td>\n",
       "      <td>0</td>\n",
       "    </tr>\n",
       "    <tr>\n",
       "      <th>2</th>\n",
       "      <td>0</td>\n",
       "      <td>0</td>\n",
       "      <td>0</td>\n",
       "      <td>1</td>\n",
       "      <td>1</td>\n",
       "      <td>0</td>\n",
       "      <td>0</td>\n",
       "      <td>0</td>\n",
       "    </tr>\n",
       "    <tr>\n",
       "      <th>3</th>\n",
       "      <td>0</td>\n",
       "      <td>0</td>\n",
       "      <td>0</td>\n",
       "      <td>0</td>\n",
       "      <td>1</td>\n",
       "      <td>0</td>\n",
       "      <td>0</td>\n",
       "      <td>0</td>\n",
       "    </tr>\n",
       "    <tr>\n",
       "      <th>4</th>\n",
       "      <td>0</td>\n",
       "      <td>0</td>\n",
       "      <td>0</td>\n",
       "      <td>0</td>\n",
       "      <td>1</td>\n",
       "      <td>0</td>\n",
       "      <td>0</td>\n",
       "      <td>0</td>\n",
       "    </tr>\n",
       "  </tbody>\n",
       "</table>\n",
       "</div>"
      ],
      "text/plain": [
       "   WnvPresent  CULEX_ERRATICUS  CULEX_PIPIENS  CULEX_PIPIENS_RESTUANS  \\\n",
       "0           0                0              0                       1   \n",
       "1           0                0              0                       0   \n",
       "2           0                0              0                       1   \n",
       "3           0                0              0                       0   \n",
       "4           0                0              0                       0   \n",
       "\n",
       "   CULEX_RESTUANS  CULEX_SALINARIUS  CULEX_TARSALIS  CULEX_TERRITANS  \n",
       "0               1                 0               0                0  \n",
       "1               1                 0               0                0  \n",
       "2               1                 0               0                0  \n",
       "3               1                 0               0                0  \n",
       "4               1                 0               0                0  "
      ]
     },
     "execution_count": 92,
     "metadata": {},
     "output_type": "execute_result"
    }
   ],
   "source": [
    "df_species.head(5)"
   ]
  },
  {
   "cell_type": "code",
   "execution_count": 93,
   "metadata": {},
   "outputs": [
    {
     "data": {
      "text/plain": [
       "WnvPresent                 385\n",
       "CULEX_ERRATICUS              1\n",
       "CULEX_PIPIENS             1950\n",
       "CULEX_PIPIENS_RESTUANS    3826\n",
       "CULEX_RESTUANS            2393\n",
       "CULEX_SALINARIUS            83\n",
       "CULEX_TARSALIS               6\n",
       "CULEX_TERRITANS            216\n",
       "dtype: int64"
      ]
     },
     "execution_count": 93,
     "metadata": {},
     "output_type": "execute_result"
    }
   ],
   "source": [
    "df_species.sum()"
   ]
  },
  {
   "cell_type": "code",
   "execution_count": 98,
   "metadata": {},
   "outputs": [
    {
     "name": "stdout",
     "output_type": "stream",
     "text": [
      "Optimization terminated successfully.\n",
      "         Current function value: 0.254680\n",
      "         Iterations 8\n"
     ]
    }
   ],
   "source": [
    "## CREATING MODEL WITH JUST SPECIES -- included only CULEX_PIPIENS, CULEX_RESTUANS, CULEX_TERRITANS, CULEX_PIPIENS_RESTUANS\n",
    "\n",
    "model = smf.logit(\n",
    "    \"WnvPresent ~ CULEX_PIPIENS + CULEX_RESTUANS + CULEX_TERRITANS + CULEX_PIPIENS_RESTUANS\",\n",
    "    data = df_species\n",
    ").fit()\n",
    "\n",
    "# 'CULEX PIPIENS/RESTUANS' + "
   ]
  },
  {
   "cell_type": "code",
   "execution_count": 99,
   "metadata": {},
   "outputs": [
    {
     "data": {
      "text/html": [
       "<table class=\"simpletable\">\n",
       "<caption>Logit Regression Results</caption>\n",
       "<tr>\n",
       "  <th>Dep. Variable:</th>    <td>WnvPresent</td>    <th>  No. Observations:  </th>  <td>  4616</td>  \n",
       "</tr>\n",
       "<tr>\n",
       "  <th>Model:</th>               <td>Logit</td>      <th>  Df Residuals:      </th>  <td>  4611</td>  \n",
       "</tr>\n",
       "<tr>\n",
       "  <th>Method:</th>               <td>MLE</td>       <th>  Df Model:          </th>  <td>     4</td>  \n",
       "</tr>\n",
       "<tr>\n",
       "  <th>Date:</th>          <td>Mon, 07 Aug 2017</td> <th>  Pseudo R-squ.:     </th>  <td>0.1126</td>  \n",
       "</tr>\n",
       "<tr>\n",
       "  <th>Time:</th>              <td>09:26:00</td>     <th>  Log-Likelihood:    </th> <td> -1175.6</td> \n",
       "</tr>\n",
       "<tr>\n",
       "  <th>converged:</th>           <td>True</td>       <th>  LL-Null:           </th> <td> -1324.8</td> \n",
       "</tr>\n",
       "<tr>\n",
       "  <th> </th>                      <td> </td>        <th>  LLR p-value:       </th> <td>2.326e-63</td>\n",
       "</tr>\n",
       "</table>\n",
       "<table class=\"simpletable\">\n",
       "<tr>\n",
       "             <td></td>               <th>coef</th>     <th>std err</th>      <th>z</th>      <th>P>|z|</th>  <th>[0.025</th>    <th>0.975]</th>  \n",
       "</tr>\n",
       "<tr>\n",
       "  <th>Intercept</th>              <td>   -4.9483</td> <td>    0.278</td> <td>  -17.824</td> <td> 0.000</td> <td>   -5.492</td> <td>   -4.404</td>\n",
       "</tr>\n",
       "<tr>\n",
       "  <th>CULEX_PIPIENS</th>          <td>    1.7758</td> <td>    0.130</td> <td>   13.623</td> <td> 0.000</td> <td>    1.520</td> <td>    2.031</td>\n",
       "</tr>\n",
       "<tr>\n",
       "  <th>CULEX_RESTUANS</th>         <td>    0.0462</td> <td>    0.111</td> <td>    0.416</td> <td> 0.678</td> <td>   -0.172</td> <td>    0.264</td>\n",
       "</tr>\n",
       "<tr>\n",
       "  <th>CULEX_TERRITANS</th>        <td>   -0.0525</td> <td>    0.244</td> <td>   -0.215</td> <td> 0.830</td> <td>   -0.531</td> <td>    0.426</td>\n",
       "</tr>\n",
       "<tr>\n",
       "  <th>CULEX_PIPIENS_RESTUANS</th> <td>    1.6223</td> <td>    0.261</td> <td>    6.218</td> <td> 0.000</td> <td>    1.111</td> <td>    2.134</td>\n",
       "</tr>\n",
       "</table>"
      ],
      "text/plain": [
       "<class 'statsmodels.iolib.summary.Summary'>\n",
       "\"\"\"\n",
       "                           Logit Regression Results                           \n",
       "==============================================================================\n",
       "Dep. Variable:             WnvPresent   No. Observations:                 4616\n",
       "Model:                          Logit   Df Residuals:                     4611\n",
       "Method:                           MLE   Df Model:                            4\n",
       "Date:                Mon, 07 Aug 2017   Pseudo R-squ.:                  0.1126\n",
       "Time:                        09:26:00   Log-Likelihood:                -1175.6\n",
       "converged:                       True   LL-Null:                       -1324.8\n",
       "                                        LLR p-value:                 2.326e-63\n",
       "==========================================================================================\n",
       "                             coef    std err          z      P>|z|      [0.025      0.975]\n",
       "------------------------------------------------------------------------------------------\n",
       "Intercept                 -4.9483      0.278    -17.824      0.000      -5.492      -4.404\n",
       "CULEX_PIPIENS              1.7758      0.130     13.623      0.000       1.520       2.031\n",
       "CULEX_RESTUANS             0.0462      0.111      0.416      0.678      -0.172       0.264\n",
       "CULEX_TERRITANS           -0.0525      0.244     -0.215      0.830      -0.531       0.426\n",
       "CULEX_PIPIENS_RESTUANS     1.6223      0.261      6.218      0.000       1.111       2.134\n",
       "==========================================================================================\n",
       "\"\"\""
      ]
     },
     "execution_count": 99,
     "metadata": {},
     "output_type": "execute_result"
    }
   ],
   "source": [
    "model.summary()"
   ]
  },
  {
   "cell_type": "code",
   "execution_count": 96,
   "metadata": {},
   "outputs": [
    {
     "name": "stdout",
     "output_type": "stream",
     "text": [
      "                        0         1\n",
      "Intercept       -3.794663 -3.272049\n",
      "CULEX_PIPIENS    1.540124  2.054676\n",
      "CULEX_RESTUANS  -0.106178  0.330487\n",
      "CULEX_TERRITANS -0.452451  0.496224\n"
     ]
    }
   ],
   "source": [
    "print model.conf_int()"
   ]
  },
  {
   "cell_type": "code",
   "execution_count": 100,
   "metadata": {},
   "outputs": [
    {
     "name": "stdout",
     "output_type": "stream",
     "text": [
      "Optimization terminated successfully.\n",
      "         Current function value: 0.261313\n",
      "         Iterations 7\n"
     ]
    }
   ],
   "source": [
    "## CREATING MODEL WITH JUST SPECIES -- included only CULEX_PIPIENS, CULEX_RESTUANS, CULEX_TERRITANS\n",
    "\n",
    "model = smf.logit(\n",
    "    \"WnvPresent ~ CULEX_PIPIENS + CULEX_RESTUANS + CULEX_TERRITANS\",\n",
    "    data = df_species\n",
    ").fit()\n",
    "\n",
    "# 'CULEX PIPIENS/RESTUANS' + "
   ]
  },
  {
   "cell_type": "code",
   "execution_count": 101,
   "metadata": {},
   "outputs": [
    {
     "data": {
      "text/html": [
       "<table class=\"simpletable\">\n",
       "<caption>Logit Regression Results</caption>\n",
       "<tr>\n",
       "  <th>Dep. Variable:</th>    <td>WnvPresent</td>    <th>  No. Observations:  </th>  <td>  4616</td>  \n",
       "</tr>\n",
       "<tr>\n",
       "  <th>Model:</th>               <td>Logit</td>      <th>  Df Residuals:      </th>  <td>  4612</td>  \n",
       "</tr>\n",
       "<tr>\n",
       "  <th>Method:</th>               <td>MLE</td>       <th>  Df Model:          </th>  <td>     3</td>  \n",
       "</tr>\n",
       "<tr>\n",
       "  <th>Date:</th>          <td>Mon, 07 Aug 2017</td> <th>  Pseudo R-squ.:     </th>  <td>0.08953</td> \n",
       "</tr>\n",
       "<tr>\n",
       "  <th>Time:</th>              <td>09:26:53</td>     <th>  Log-Likelihood:    </th> <td> -1206.2</td> \n",
       "</tr>\n",
       "<tr>\n",
       "  <th>converged:</th>           <td>True</td>       <th>  LL-Null:           </th> <td> -1324.8</td> \n",
       "</tr>\n",
       "<tr>\n",
       "  <th> </th>                      <td> </td>        <th>  LLR p-value:       </th> <td>3.779e-51</td>\n",
       "</tr>\n",
       "</table>\n",
       "<table class=\"simpletable\">\n",
       "<tr>\n",
       "         <td></td>            <th>coef</th>     <th>std err</th>      <th>z</th>      <th>P>|z|</th>  <th>[0.025</th>    <th>0.975]</th>  \n",
       "</tr>\n",
       "<tr>\n",
       "  <th>Intercept</th>       <td>   -3.5334</td> <td>    0.133</td> <td>  -26.502</td> <td> 0.000</td> <td>   -3.795</td> <td>   -3.272</td>\n",
       "</tr>\n",
       "<tr>\n",
       "  <th>CULEX_PIPIENS</th>   <td>    1.7974</td> <td>    0.131</td> <td>   13.693</td> <td> 0.000</td> <td>    1.540</td> <td>    2.055</td>\n",
       "</tr>\n",
       "<tr>\n",
       "  <th>CULEX_RESTUANS</th>  <td>    0.1122</td> <td>    0.111</td> <td>    1.007</td> <td> 0.314</td> <td>   -0.106</td> <td>    0.330</td>\n",
       "</tr>\n",
       "<tr>\n",
       "  <th>CULEX_TERRITANS</th> <td>    0.0219</td> <td>    0.242</td> <td>    0.090</td> <td> 0.928</td> <td>   -0.452</td> <td>    0.496</td>\n",
       "</tr>\n",
       "</table>"
      ],
      "text/plain": [
       "<class 'statsmodels.iolib.summary.Summary'>\n",
       "\"\"\"\n",
       "                           Logit Regression Results                           \n",
       "==============================================================================\n",
       "Dep. Variable:             WnvPresent   No. Observations:                 4616\n",
       "Model:                          Logit   Df Residuals:                     4612\n",
       "Method:                           MLE   Df Model:                            3\n",
       "Date:                Mon, 07 Aug 2017   Pseudo R-squ.:                 0.08953\n",
       "Time:                        09:26:53   Log-Likelihood:                -1206.2\n",
       "converged:                       True   LL-Null:                       -1324.8\n",
       "                                        LLR p-value:                 3.779e-51\n",
       "===================================================================================\n",
       "                      coef    std err          z      P>|z|      [0.025      0.975]\n",
       "-----------------------------------------------------------------------------------\n",
       "Intercept          -3.5334      0.133    -26.502      0.000      -3.795      -3.272\n",
       "CULEX_PIPIENS       1.7974      0.131     13.693      0.000       1.540       2.055\n",
       "CULEX_RESTUANS      0.1122      0.111      1.007      0.314      -0.106       0.330\n",
       "CULEX_TERRITANS     0.0219      0.242      0.090      0.928      -0.452       0.496\n",
       "===================================================================================\n",
       "\"\"\""
      ]
     },
     "execution_count": 101,
     "metadata": {},
     "output_type": "execute_result"
    }
   ],
   "source": [
    "model.summary()"
   ]
  },
  {
   "cell_type": "code",
   "execution_count": 3,
   "metadata": {},
   "outputs": [
    {
     "data": {
      "image/png": "[encoded data removed]",
      "text/plain": [
       "<matplotlib.figure.Figure at 0x10a518ed0>"
      ]
     },
     "metadata": {},
     "output_type": "display_data"
    }
   ],
   "source": [
    "# https://www.kaggle.com/dchudz/show-map-image-in-python\n",
    "# bounding box of this map:\n",
    "# #    ll.lat ll.lon ur.lat ur.lon\n",
    "# #    41.6    -88   42.1  -87.5\n",
    "\n",
    "mapdata = np.loadtxt(\"data_wnv/mapdata_copyright_openstreetmap_contributors.txt\")\n",
    "plt.imshow(mapdata, cmap = plt.get_cmap('gray'))\n",
    "plt.savefig('map.jpg')"
   ]
  },
  {
   "cell_type": "code",
   "execution_count": null,
   "metadata": {
    "collapsed": true
   },
   "outputs": [],
   "source": [
    "df_train.describe()"
   ]
  },
  {
   "cell_type": "code",
   "execution_count": null,
   "metadata": {
    "collapsed": true
   },
   "outputs": [],
   "source": [
    "df_train.head(5)"
   ]
  },
  {
   "cell_type": "code",
   "execution_count": null,
   "metadata": {
    "collapsed": true
   },
   "outputs": [],
   "source": [
    "# def eda(dataframe):\n",
    "#     print \"missing values \\n\", dataframe.isnull().sum()\n",
    "#     print \"dataframe index \\n\", dataframe.index\n",
    "#     print \"dataframe types \\n\", dataframe.dtypes\n",
    "#     print \"dataframe shape \\n\", dataframe.shape\n",
    "#     print \"dataframe describe \\n\", dataframe.describe()\n",
    "#     for item in dataframe:\n",
    "#         print item\n",
    "#         print dataframe[item].nunique()\n",
    "\n",
    "# eda(df_train)"
   ]
  },
  {
   "cell_type": "code",
   "execution_count": null,
   "metadata": {
    "collapsed": true
   },
   "outputs": [],
   "source": [
    "df_spray.describe()"
   ]
  },
  {
   "cell_type": "code",
   "execution_count": null,
   "metadata": {
    "collapsed": true
   },
   "outputs": [],
   "source": [
    "df_weather.describe()"
   ]
  },
  {
   "cell_type": "code",
   "execution_count": null,
   "metadata": {
    "collapsed": true,
    "scrolled": false
   },
   "outputs": [],
   "source": [
    "list(df_weather)"
   ]
  },
  {
   "cell_type": "code",
   "execution_count": null,
   "metadata": {
    "collapsed": true
   },
   "outputs": [],
   "source": [
    "df_weather.PrecipTotal.head(10)"
   ]
  },
  {
   "cell_type": "code",
   "execution_count": null,
   "metadata": {
    "collapsed": true
   },
   "outputs": [],
   "source": [
    "df_weather.head(10)"
   ]
  },
  {
   "cell_type": "code",
   "execution_count": null,
   "metadata": {
    "collapsed": true
   },
   "outputs": [],
   "source": [
    "df_train.describe()"
   ]
  },
  {
   "cell_type": "code",
   "execution_count": 6,
   "metadata": {},
   "outputs": [
    {
     "data": {
      "text/plain": [
       "array(['CULEX PIPIENS/RESTUANS', 'CULEX RESTUANS', 'CULEX PIPIENS',\n",
       "       'CULEX SALINARIUS', 'CULEX TERRITANS', 'CULEX TARSALIS',\n",
       "       'CULEX ERRATICUS'], dtype=object)"
      ]
     },
     "execution_count": 6,
     "metadata": {},
     "output_type": "execute_result"
    }
   ],
   "source": [
    "## COMPARING TYPES OF SPECIES IN TRAIN AND TEST SETS\n",
    "\n",
    "df_train.Species.unique()"
   ]
  },
  {
   "cell_type": "code",
   "execution_count": 7,
   "metadata": {},
   "outputs": [
    {
     "data": {
      "text/plain": [
       "array(['CULEX PIPIENS/RESTUANS', 'CULEX RESTUANS', 'CULEX PIPIENS',\n",
       "       'CULEX SALINARIUS', 'CULEX TERRITANS', 'CULEX TARSALIS',\n",
       "       'UNSPECIFIED CULEX', 'CULEX ERRATICUS'], dtype=object)"
      ]
     },
     "execution_count": 7,
     "metadata": {},
     "output_type": "execute_result"
    }
   ],
   "source": [
    "## COMPARING TYPES OF SPECIES IN TRAIN AND TEST SETS\n",
    "\n",
    "df_test.Species.unique()\n",
    "\n",
    "## UNSPECIFIED CULEX IS ONLY IN TEST SET"
   ]
  },
  {
   "cell_type": "code",
   "execution_count": 8,
   "metadata": {},
   "outputs": [
    {
     "data": {
      "text/html": [
       "<div>\n",
       "<style>\n",
       "    .dataframe thead tr:only-child th {\n",
       "        text-align: right;\n",
       "    }\n",
       "\n",
       "    .dataframe thead th {\n",
       "        text-align: left;\n",
       "    }\n",
       "\n",
       "    .dataframe tbody tr th {\n",
       "        vertical-align: top;\n",
       "    }\n",
       "</style>\n",
       "<table border=\"1\" class=\"dataframe\">\n",
       "  <thead>\n",
       "    <tr style=\"text-align: right;\">\n",
       "      <th></th>\n",
       "      <th>Id</th>\n",
       "      <th>Date</th>\n",
       "      <th>Address</th>\n",
       "      <th>Species</th>\n",
       "      <th>Block</th>\n",
       "      <th>Street</th>\n",
       "      <th>Trap</th>\n",
       "      <th>AddressNumberAndStreet</th>\n",
       "      <th>Latitude</th>\n",
       "      <th>Longitude</th>\n",
       "      <th>AddressAccuracy</th>\n",
       "    </tr>\n",
       "  </thead>\n",
       "  <tbody>\n",
       "    <tr>\n",
       "      <th>6</th>\n",
       "      <td>7</td>\n",
       "      <td>2008-06-11</td>\n",
       "      <td>4100 North Oak Park Avenue, Chicago, IL 60634,...</td>\n",
       "      <td>UNSPECIFIED CULEX</td>\n",
       "      <td>41</td>\n",
       "      <td>N OAK PARK AVE</td>\n",
       "      <td>T002</td>\n",
       "      <td>4100  N OAK PARK AVE, Chicago, IL</td>\n",
       "      <td>41.954690</td>\n",
       "      <td>-87.800991</td>\n",
       "      <td>9</td>\n",
       "    </tr>\n",
       "    <tr>\n",
       "      <th>14</th>\n",
       "      <td>15</td>\n",
       "      <td>2008-06-11</td>\n",
       "      <td>6200 North Mandell Avenue, Chicago, IL 60646, USA</td>\n",
       "      <td>UNSPECIFIED CULEX</td>\n",
       "      <td>62</td>\n",
       "      <td>N MANDELL AVE</td>\n",
       "      <td>T007</td>\n",
       "      <td>6200  N MANDELL AVE, Chicago, IL</td>\n",
       "      <td>41.994991</td>\n",
       "      <td>-87.769279</td>\n",
       "      <td>9</td>\n",
       "    </tr>\n",
       "    <tr>\n",
       "      <th>22</th>\n",
       "      <td>23</td>\n",
       "      <td>2008-06-11</td>\n",
       "      <td>7900 West Foster Avenue, Chicago, IL 60656, USA</td>\n",
       "      <td>UNSPECIFIED CULEX</td>\n",
       "      <td>79</td>\n",
       "      <td>W FOSTER AVE</td>\n",
       "      <td>T015</td>\n",
       "      <td>7900  W FOSTER AVE, Chicago, IL</td>\n",
       "      <td>41.974089</td>\n",
       "      <td>-87.824812</td>\n",
       "      <td>8</td>\n",
       "    </tr>\n",
       "    <tr>\n",
       "      <th>30</th>\n",
       "      <td>31</td>\n",
       "      <td>2008-06-11</td>\n",
       "      <td>1500 West Webster Avenue, Chicago, IL 60614, USA</td>\n",
       "      <td>UNSPECIFIED CULEX</td>\n",
       "      <td>15</td>\n",
       "      <td>W WEBSTER AVE</td>\n",
       "      <td>T045</td>\n",
       "      <td>1500  W WEBSTER AVE, Chicago, IL</td>\n",
       "      <td>41.921600</td>\n",
       "      <td>-87.666455</td>\n",
       "      <td>8</td>\n",
       "    </tr>\n",
       "    <tr>\n",
       "      <th>38</th>\n",
       "      <td>39</td>\n",
       "      <td>2008-06-11</td>\n",
       "      <td>2500 West Grand Avenue, Chicago, IL 60654, USA</td>\n",
       "      <td>UNSPECIFIED CULEX</td>\n",
       "      <td>25</td>\n",
       "      <td>W GRAND AVE</td>\n",
       "      <td>T046</td>\n",
       "      <td>2500  W GRAND AVE, Chicago, IL</td>\n",
       "      <td>41.891118</td>\n",
       "      <td>-87.654491</td>\n",
       "      <td>8</td>\n",
       "    </tr>\n",
       "    <tr>\n",
       "      <th>46</th>\n",
       "      <td>47</td>\n",
       "      <td>2008-06-11</td>\n",
       "      <td>1100 Roosevelt Road, Chicago, IL 60608, USA</td>\n",
       "      <td>UNSPECIFIED CULEX</td>\n",
       "      <td>11</td>\n",
       "      <td>W ROOSEVELT</td>\n",
       "      <td>T048</td>\n",
       "      <td>1100  W ROOSEVELT, Chicago, IL</td>\n",
       "      <td>41.867108</td>\n",
       "      <td>-87.654224</td>\n",
       "      <td>8</td>\n",
       "    </tr>\n",
       "    <tr>\n",
       "      <th>54</th>\n",
       "      <td>55</td>\n",
       "      <td>2008-06-11</td>\n",
       "      <td>1100 West Chicago Avenue, Chicago, IL 60642, USA</td>\n",
       "      <td>UNSPECIFIED CULEX</td>\n",
       "      <td>11</td>\n",
       "      <td>W CHICAGO</td>\n",
       "      <td>T049</td>\n",
       "      <td>1100  W CHICAGO, Chicago, IL</td>\n",
       "      <td>41.896282</td>\n",
       "      <td>-87.655232</td>\n",
       "      <td>8</td>\n",
       "    </tr>\n",
       "    <tr>\n",
       "      <th>62</th>\n",
       "      <td>63</td>\n",
       "      <td>2008-06-11</td>\n",
       "      <td>2100 North Stave Street, Chicago, IL 60647, USA</td>\n",
       "      <td>UNSPECIFIED CULEX</td>\n",
       "      <td>21</td>\n",
       "      <td>N STAVE ST</td>\n",
       "      <td>T050</td>\n",
       "      <td>2100  N STAVE ST, Chicago, IL</td>\n",
       "      <td>41.919343</td>\n",
       "      <td>-87.694259</td>\n",
       "      <td>8</td>\n",
       "    </tr>\n",
       "    <tr>\n",
       "      <th>70</th>\n",
       "      <td>71</td>\n",
       "      <td>2008-06-11</td>\n",
       "      <td>2200 North Cannon Drive, Chicago, IL 60614, USA</td>\n",
       "      <td>UNSPECIFIED CULEX</td>\n",
       "      <td>22</td>\n",
       "      <td>N CANNON DR</td>\n",
       "      <td>T054</td>\n",
       "      <td>2200  N CANNON DR, Chicago, IL</td>\n",
       "      <td>41.921965</td>\n",
       "      <td>-87.632085</td>\n",
       "      <td>8</td>\n",
       "    </tr>\n",
       "    <tr>\n",
       "      <th>78</th>\n",
       "      <td>79</td>\n",
       "      <td>2008-06-11</td>\n",
       "      <td>2200 West 113th Street, Chicago, IL 60643, USA</td>\n",
       "      <td>UNSPECIFIED CULEX</td>\n",
       "      <td>22</td>\n",
       "      <td>W 113TH ST</td>\n",
       "      <td>T086</td>\n",
       "      <td>2200  W 113TH ST, Chicago, IL</td>\n",
       "      <td>41.688324</td>\n",
       "      <td>-87.676709</td>\n",
       "      <td>8</td>\n",
       "    </tr>\n",
       "    <tr>\n",
       "      <th>86</th>\n",
       "      <td>87</td>\n",
       "      <td>2008-06-11</td>\n",
       "      <td>1100 South Peoria Street, Chicago, IL 60608, USA</td>\n",
       "      <td>UNSPECIFIED CULEX</td>\n",
       "      <td>11</td>\n",
       "      <td>S PEORIA ST</td>\n",
       "      <td>T091</td>\n",
       "      <td>1100  S PEORIA ST, Chicago, IL</td>\n",
       "      <td>41.862292</td>\n",
       "      <td>-87.648860</td>\n",
       "      <td>8</td>\n",
       "    </tr>\n",
       "    <tr>\n",
       "      <th>94</th>\n",
       "      <td>95</td>\n",
       "      <td>2008-06-11</td>\n",
       "      <td>1700 West 95th Street, Chicago, IL 60643, USA</td>\n",
       "      <td>UNSPECIFIED CULEX</td>\n",
       "      <td>17</td>\n",
       "      <td>W 95TH ST</td>\n",
       "      <td>T094</td>\n",
       "      <td>1700  W 95TH ST, Chicago, IL</td>\n",
       "      <td>41.720848</td>\n",
       "      <td>-87.666014</td>\n",
       "      <td>9</td>\n",
       "    </tr>\n",
       "    <tr>\n",
       "      <th>102</th>\n",
       "      <td>103</td>\n",
       "      <td>2008-06-11</td>\n",
       "      <td>2200 West 89th Street, Chicago, IL 60643, USA</td>\n",
       "      <td>UNSPECIFIED CULEX</td>\n",
       "      <td>22</td>\n",
       "      <td>W 89TH ST</td>\n",
       "      <td>T096</td>\n",
       "      <td>2200  W 89TH ST, Chicago, IL</td>\n",
       "      <td>41.731922</td>\n",
       "      <td>-87.677512</td>\n",
       "      <td>8</td>\n",
       "    </tr>\n",
       "    <tr>\n",
       "      <th>110</th>\n",
       "      <td>111</td>\n",
       "      <td>2008-06-11</td>\n",
       "      <td>North Streeter Drive, Chicago, IL 60611, USA</td>\n",
       "      <td>UNSPECIFIED CULEX</td>\n",
       "      <td>53</td>\n",
       "      <td>N STREETER DR</td>\n",
       "      <td>T129</td>\n",
       "      <td>5300  N STREETER DR, Chicago, IL</td>\n",
       "      <td>41.891126</td>\n",
       "      <td>-87.611560</td>\n",
       "      <td>5</td>\n",
       "    </tr>\n",
       "    <tr>\n",
       "      <th>118</th>\n",
       "      <td>119</td>\n",
       "      <td>2008-06-11</td>\n",
       "      <td>6500 North Oak Park Avenue, Chicago, IL 60631,...</td>\n",
       "      <td>UNSPECIFIED CULEX</td>\n",
       "      <td>65</td>\n",
       "      <td>N OAK PARK AVE</td>\n",
       "      <td>T143</td>\n",
       "      <td>6500  N OAK PARK AVE, Chicago, IL</td>\n",
       "      <td>41.999129</td>\n",
       "      <td>-87.795585</td>\n",
       "      <td>8</td>\n",
       "    </tr>\n",
       "    <tr>\n",
       "      <th>126</th>\n",
       "      <td>127</td>\n",
       "      <td>2008-06-11</td>\n",
       "      <td>7500 North Oakley Avenue, Chicago, IL 60645, USA</td>\n",
       "      <td>UNSPECIFIED CULEX</td>\n",
       "      <td>75</td>\n",
       "      <td>N OAKLEY AVE</td>\n",
       "      <td>T148</td>\n",
       "      <td>7500  N OAKLEY AVE, Chicago, IL</td>\n",
       "      <td>42.017430</td>\n",
       "      <td>-87.687769</td>\n",
       "      <td>8</td>\n",
       "    </tr>\n",
       "    <tr>\n",
       "      <th>134</th>\n",
       "      <td>135</td>\n",
       "      <td>2008-06-11</td>\n",
       "      <td>1500 North Long Avenue, Chicago, IL 60651, USA</td>\n",
       "      <td>UNSPECIFIED CULEX</td>\n",
       "      <td>15</td>\n",
       "      <td>N LONG AVE</td>\n",
       "      <td>T153</td>\n",
       "      <td>1500  N LONG AVE, Chicago, IL</td>\n",
       "      <td>41.907645</td>\n",
       "      <td>-87.760886</td>\n",
       "      <td>8</td>\n",
       "    </tr>\n",
       "    <tr>\n",
       "      <th>142</th>\n",
       "      <td>143</td>\n",
       "      <td>2008-06-11</td>\n",
       "      <td>8900 South Carpenter Street, Chicago, IL 60620...</td>\n",
       "      <td>UNSPECIFIED CULEX</td>\n",
       "      <td>89</td>\n",
       "      <td>S CARPENTER ST</td>\n",
       "      <td>T159</td>\n",
       "      <td>8900  S CARPENTER ST, Chicago, IL</td>\n",
       "      <td>41.732984</td>\n",
       "      <td>-87.649642</td>\n",
       "      <td>8</td>\n",
       "    </tr>\n",
       "    <tr>\n",
       "      <th>150</th>\n",
       "      <td>151</td>\n",
       "      <td>2008-06-11</td>\n",
       "      <td>9100 West Higgins Avenue, Chicago, IL 60656, USA</td>\n",
       "      <td>UNSPECIFIED CULEX</td>\n",
       "      <td>91</td>\n",
       "      <td>W HIGGINS AVE</td>\n",
       "      <td>T009</td>\n",
       "      <td>9100  W HIGGINS AVE, Chicago, IL</td>\n",
       "      <td>41.981964</td>\n",
       "      <td>-87.812827</td>\n",
       "      <td>8</td>\n",
       "    </tr>\n",
       "    <tr>\n",
       "      <th>158</th>\n",
       "      <td>159</td>\n",
       "      <td>2008-06-11</td>\n",
       "      <td>3600 North Pittsburgh Avenue, Chicago, IL 6063...</td>\n",
       "      <td>UNSPECIFIED CULEX</td>\n",
       "      <td>36</td>\n",
       "      <td>N PITTSBURGH AVE</td>\n",
       "      <td>T011</td>\n",
       "      <td>3600  N PITTSBURGH AVE, Chicago, IL</td>\n",
       "      <td>41.944869</td>\n",
       "      <td>-87.832763</td>\n",
       "      <td>8</td>\n",
       "    </tr>\n",
       "    <tr>\n",
       "      <th>166</th>\n",
       "      <td>167</td>\n",
       "      <td>2008-06-11</td>\n",
       "      <td>7200 North Oketo Avenue, Chicago, IL 60631, USA</td>\n",
       "      <td>UNSPECIFIED CULEX</td>\n",
       "      <td>72</td>\n",
       "      <td>N OKETO AVE</td>\n",
       "      <td>T016</td>\n",
       "      <td>7200  N OKETO AVE, Chicago, IL</td>\n",
       "      <td>42.011601</td>\n",
       "      <td>-87.811506</td>\n",
       "      <td>8</td>\n",
       "    </tr>\n",
       "    <tr>\n",
       "      <th>174</th>\n",
       "      <td>175</td>\n",
       "      <td>2008-06-11</td>\n",
       "      <td>3800 North California Avenue, Chicago, IL 6061...</td>\n",
       "      <td>UNSPECIFIED CULEX</td>\n",
       "      <td>38</td>\n",
       "      <td>N CALIFORNIA AVE</td>\n",
       "      <td>T019</td>\n",
       "      <td>3800  N CALIFORNIA AVE, Chicago, IL</td>\n",
       "      <td>41.949830</td>\n",
       "      <td>-87.698457</td>\n",
       "      <td>9</td>\n",
       "    </tr>\n",
       "    <tr>\n",
       "      <th>182</th>\n",
       "      <td>183</td>\n",
       "      <td>2008-06-11</td>\n",
       "      <td>4900 West Balmoral Avenue, Chicago, IL 60630, USA</td>\n",
       "      <td>UNSPECIFIED CULEX</td>\n",
       "      <td>49</td>\n",
       "      <td>W BALMORAL AVE</td>\n",
       "      <td>T025</td>\n",
       "      <td>4900  W BALMORAL AVE, Chicago, IL</td>\n",
       "      <td>41.979243</td>\n",
       "      <td>-87.750938</td>\n",
       "      <td>9</td>\n",
       "    </tr>\n",
       "    <tr>\n",
       "      <th>190</th>\n",
       "      <td>191</td>\n",
       "      <td>2008-06-11</td>\n",
       "      <td>5800 North Western Avenue, Chicago, IL 60659, USA</td>\n",
       "      <td>UNSPECIFIED CULEX</td>\n",
       "      <td>58</td>\n",
       "      <td>N WESTERN AVE</td>\n",
       "      <td>T028</td>\n",
       "      <td>5800  N WESTERN AVE, Chicago, IL</td>\n",
       "      <td>41.986921</td>\n",
       "      <td>-87.689778</td>\n",
       "      <td>9</td>\n",
       "    </tr>\n",
       "    <tr>\n",
       "      <th>198</th>\n",
       "      <td>199</td>\n",
       "      <td>2008-06-11</td>\n",
       "      <td>5000 South Central Avenue, Chicago, IL 60638, USA</td>\n",
       "      <td>UNSPECIFIED CULEX</td>\n",
       "      <td>50</td>\n",
       "      <td>S CENTRAL AVE</td>\n",
       "      <td>T031</td>\n",
       "      <td>5000  S CENTRAL AVE, Chicago, IL</td>\n",
       "      <td>41.801498</td>\n",
       "      <td>-87.763416</td>\n",
       "      <td>9</td>\n",
       "    </tr>\n",
       "    <tr>\n",
       "      <th>206</th>\n",
       "      <td>207</td>\n",
       "      <td>2008-06-11</td>\n",
       "      <td>1400 North Sacramento Avenue, Chicago, IL 6062...</td>\n",
       "      <td>UNSPECIFIED CULEX</td>\n",
       "      <td>14</td>\n",
       "      <td>N HUMBOLDT DR</td>\n",
       "      <td>T033</td>\n",
       "      <td>1400  N HUMBOLDT DR, Chicago, IL</td>\n",
       "      <td>41.906638</td>\n",
       "      <td>-87.701431</td>\n",
       "      <td>9</td>\n",
       "    </tr>\n",
       "    <tr>\n",
       "      <th>214</th>\n",
       "      <td>215</td>\n",
       "      <td>2008-06-11</td>\n",
       "      <td>South Vincennes Avenue, Chicago, IL, USA</td>\n",
       "      <td>UNSPECIFIED CULEX</td>\n",
       "      <td>10</td>\n",
       "      <td>S VINCENNES</td>\n",
       "      <td>T089</td>\n",
       "      <td>1000  S VINCENNES, Chicago, IL</td>\n",
       "      <td>41.723195</td>\n",
       "      <td>-87.649970</td>\n",
       "      <td>5</td>\n",
       "    </tr>\n",
       "    <tr>\n",
       "      <th>222</th>\n",
       "      <td>223</td>\n",
       "      <td>2008-06-11</td>\n",
       "      <td>University of Illinois at Chicago, 1100 South ...</td>\n",
       "      <td>UNSPECIFIED CULEX</td>\n",
       "      <td>11</td>\n",
       "      <td>S ASHLAND AVE</td>\n",
       "      <td>T090</td>\n",
       "      <td>1100  S ASHLAND AVE, Chicago, IL</td>\n",
       "      <td>41.868077</td>\n",
       "      <td>-87.666901</td>\n",
       "      <td>9</td>\n",
       "    </tr>\n",
       "    <tr>\n",
       "      <th>230</th>\n",
       "      <td>231</td>\n",
       "      <td>2008-06-11</td>\n",
       "      <td>1100 South State Street, Chicago, IL 60605, USA</td>\n",
       "      <td>UNSPECIFIED CULEX</td>\n",
       "      <td>11</td>\n",
       "      <td>S STATE ST</td>\n",
       "      <td>T092</td>\n",
       "      <td>1100  S STATE ST, Chicago, IL</td>\n",
       "      <td>41.869216</td>\n",
       "      <td>-87.627561</td>\n",
       "      <td>8</td>\n",
       "    </tr>\n",
       "    <tr>\n",
       "      <th>238</th>\n",
       "      <td>239</td>\n",
       "      <td>2008-06-11</td>\n",
       "      <td>4200 West 127th Street, Alsip, IL 60803, USA</td>\n",
       "      <td>UNSPECIFIED CULEX</td>\n",
       "      <td>42</td>\n",
       "      <td>W 127TH PL</td>\n",
       "      <td>T135</td>\n",
       "      <td>4200  W 127TH PL, Chicago, IL</td>\n",
       "      <td>41.662014</td>\n",
       "      <td>-87.724608</td>\n",
       "      <td>8</td>\n",
       "    </tr>\n",
       "    <tr>\n",
       "      <th>...</th>\n",
       "      <td>...</td>\n",
       "      <td>...</td>\n",
       "      <td>...</td>\n",
       "      <td>...</td>\n",
       "      <td>...</td>\n",
       "      <td>...</td>\n",
       "      <td>...</td>\n",
       "      <td>...</td>\n",
       "      <td>...</td>\n",
       "      <td>...</td>\n",
       "      <td>...</td>\n",
       "    </tr>\n",
       "    <tr>\n",
       "      <th>116059</th>\n",
       "      <td>116060</td>\n",
       "      <td>2014-10-02</td>\n",
       "      <td>1200 West 120th Street, Chicago, IL 60643, USA</td>\n",
       "      <td>UNSPECIFIED CULEX</td>\n",
       "      <td>12</td>\n",
       "      <td>W 120TH ST</td>\n",
       "      <td>T090C</td>\n",
       "      <td>1200  W 120TH ST, Chicago, IL</td>\n",
       "      <td>41.675876</td>\n",
       "      <td>-87.651515</td>\n",
       "      <td>8</td>\n",
       "    </tr>\n",
       "    <tr>\n",
       "      <th>116067</th>\n",
       "      <td>116068</td>\n",
       "      <td>2014-10-02</td>\n",
       "      <td>South Baltimore Avenue, Chicago, IL 60617, USA</td>\n",
       "      <td>UNSPECIFIED CULEX</td>\n",
       "      <td>12</td>\n",
       "      <td>S BALTIMORE AVE</td>\n",
       "      <td>T200A</td>\n",
       "      <td>1200  S BALTIMORE AVE, Chicago, IL</td>\n",
       "      <td>41.731929</td>\n",
       "      <td>-87.548540</td>\n",
       "      <td>5</td>\n",
       "    </tr>\n",
       "    <tr>\n",
       "      <th>116075</th>\n",
       "      <td>116076</td>\n",
       "      <td>2014-10-02</td>\n",
       "      <td>South Oglesby Avenue, Chicago, IL, USA</td>\n",
       "      <td>UNSPECIFIED CULEX</td>\n",
       "      <td>10</td>\n",
       "      <td>S OGLESBY AVE</td>\n",
       "      <td>T128A</td>\n",
       "      <td>1000  S OGLESBY AVE, Chicago, IL</td>\n",
       "      <td>41.738583</td>\n",
       "      <td>-87.567726</td>\n",
       "      <td>5</td>\n",
       "    </tr>\n",
       "    <tr>\n",
       "      <th>116083</th>\n",
       "      <td>116084</td>\n",
       "      <td>2014-10-02</td>\n",
       "      <td>2600 East 136th Street, Chicago, IL 60633, USA</td>\n",
       "      <td>UNSPECIFIED CULEX</td>\n",
       "      <td>26</td>\n",
       "      <td>E 136TH ST</td>\n",
       "      <td>T200B</td>\n",
       "      <td>2600  E 136TH ST, Chicago, IL</td>\n",
       "      <td>41.646541</td>\n",
       "      <td>-87.543762</td>\n",
       "      <td>8</td>\n",
       "    </tr>\n",
       "    <tr>\n",
       "      <th>116091</th>\n",
       "      <td>116092</td>\n",
       "      <td>2014-10-02</td>\n",
       "      <td>4000 North Kedvale Avenue, Chicago, IL 60641, USA</td>\n",
       "      <td>UNSPECIFIED CULEX</td>\n",
       "      <td>40</td>\n",
       "      <td>N KEDVALE AVE</td>\n",
       "      <td>T218A</td>\n",
       "      <td>4000  N KEDVALE AVE, Chicago, IL</td>\n",
       "      <td>41.954770</td>\n",
       "      <td>-87.730890</td>\n",
       "      <td>8</td>\n",
       "    </tr>\n",
       "    <tr>\n",
       "      <th>116099</th>\n",
       "      <td>116100</td>\n",
       "      <td>2014-10-02</td>\n",
       "      <td>2900 North Kenneth Avenue, Chicago, IL 60641, USA</td>\n",
       "      <td>UNSPECIFIED CULEX</td>\n",
       "      <td>29</td>\n",
       "      <td>N KENNETH AVE</td>\n",
       "      <td>T218C</td>\n",
       "      <td>2900  N KENNETH AVE, Chicago, IL</td>\n",
       "      <td>41.933652</td>\n",
       "      <td>-87.738416</td>\n",
       "      <td>9</td>\n",
       "    </tr>\n",
       "    <tr>\n",
       "      <th>116107</th>\n",
       "      <td>116108</td>\n",
       "      <td>2014-10-02</td>\n",
       "      <td>3700 North Kilbourn Avenue, Chicago, IL 60641,...</td>\n",
       "      <td>UNSPECIFIED CULEX</td>\n",
       "      <td>37</td>\n",
       "      <td>N KILBOURN AVE</td>\n",
       "      <td>T218B</td>\n",
       "      <td>3700  N KILBOURN AVE, Chicago, IL</td>\n",
       "      <td>41.948280</td>\n",
       "      <td>-87.741340</td>\n",
       "      <td>9</td>\n",
       "    </tr>\n",
       "    <tr>\n",
       "      <th>116115</th>\n",
       "      <td>116116</td>\n",
       "      <td>2014-10-02</td>\n",
       "      <td>4800 West Montana Street, Chicago, IL 60639, USA</td>\n",
       "      <td>UNSPECIFIED CULEX</td>\n",
       "      <td>48</td>\n",
       "      <td>W MONTANA ST</td>\n",
       "      <td>T222</td>\n",
       "      <td>4800  W MONTANA ST, Chicago, IL</td>\n",
       "      <td>41.925198</td>\n",
       "      <td>-87.746381</td>\n",
       "      <td>8</td>\n",
       "    </tr>\n",
       "    <tr>\n",
       "      <th>116123</th>\n",
       "      <td>116124</td>\n",
       "      <td>2014-10-02</td>\n",
       "      <td>5100 North Mont Clare Avenue, Chicago, IL 6065...</td>\n",
       "      <td>UNSPECIFIED CULEX</td>\n",
       "      <td>51</td>\n",
       "      <td>N MONT CLARE AVE</td>\n",
       "      <td>T223</td>\n",
       "      <td>5100  N MONT CLARE AVE, Chicago, IL</td>\n",
       "      <td>41.973845</td>\n",
       "      <td>-87.805059</td>\n",
       "      <td>9</td>\n",
       "    </tr>\n",
       "    <tr>\n",
       "      <th>116131</th>\n",
       "      <td>116132</td>\n",
       "      <td>2014-10-02</td>\n",
       "      <td>8200 South Kostner Avenue, Chicago, IL 60652, USA</td>\n",
       "      <td>UNSPECIFIED CULEX</td>\n",
       "      <td>82</td>\n",
       "      <td>S KOSTNER AVE</td>\n",
       "      <td>T225</td>\n",
       "      <td>8200  S KOSTNER AVE, Chicago, IL</td>\n",
       "      <td>41.743402</td>\n",
       "      <td>-87.731435</td>\n",
       "      <td>8</td>\n",
       "    </tr>\n",
       "    <tr>\n",
       "      <th>116139</th>\n",
       "      <td>116140</td>\n",
       "      <td>2014-10-02</td>\n",
       "      <td>East 91st Place, Chicago, IL, USA</td>\n",
       "      <td>UNSPECIFIED CULEX</td>\n",
       "      <td>65</td>\n",
       "      <td>E 91ST PL</td>\n",
       "      <td>T227</td>\n",
       "      <td>6500  E 91ST PL, Chicago, IL</td>\n",
       "      <td>41.728495</td>\n",
       "      <td>-87.600963</td>\n",
       "      <td>5</td>\n",
       "    </tr>\n",
       "    <tr>\n",
       "      <th>116147</th>\n",
       "      <td>116148</td>\n",
       "      <td>2014-10-02</td>\n",
       "      <td>1700 West Addison Street, Chicago, IL 60613, USA</td>\n",
       "      <td>UNSPECIFIED CULEX</td>\n",
       "      <td>17</td>\n",
       "      <td>W ADDISON ST</td>\n",
       "      <td>T224</td>\n",
       "      <td>1700  W ADDISON ST, Chicago, IL</td>\n",
       "      <td>41.947227</td>\n",
       "      <td>-87.671457</td>\n",
       "      <td>9</td>\n",
       "    </tr>\n",
       "    <tr>\n",
       "      <th>116155</th>\n",
       "      <td>116156</td>\n",
       "      <td>2014-10-02</td>\n",
       "      <td>West Garfield Boulevard, Chicago, IL, USA</td>\n",
       "      <td>UNSPECIFIED CULEX</td>\n",
       "      <td>90</td>\n",
       "      <td>W GARFIELD BLVD</td>\n",
       "      <td>T226</td>\n",
       "      <td>9000  W GARFIELD BLVD, Chicago, IL</td>\n",
       "      <td>41.793818</td>\n",
       "      <td>-87.654234</td>\n",
       "      <td>5</td>\n",
       "    </tr>\n",
       "    <tr>\n",
       "      <th>116163</th>\n",
       "      <td>116164</td>\n",
       "      <td>2014-10-02</td>\n",
       "      <td>South Wallace Street, Chicago, IL, USA</td>\n",
       "      <td>UNSPECIFIED CULEX</td>\n",
       "      <td>11</td>\n",
       "      <td>S WALLACE ST</td>\n",
       "      <td>T229</td>\n",
       "      <td>1100  S WALLACE ST, Chicago, IL</td>\n",
       "      <td>41.753411</td>\n",
       "      <td>-87.639817</td>\n",
       "      <td>5</td>\n",
       "    </tr>\n",
       "    <tr>\n",
       "      <th>116171</th>\n",
       "      <td>116172</td>\n",
       "      <td>2014-10-02</td>\n",
       "      <td>1300 North Laramie Avenue, Chicago, IL 60651, USA</td>\n",
       "      <td>UNSPECIFIED CULEX</td>\n",
       "      <td>13</td>\n",
       "      <td>N LARAMIE AVE</td>\n",
       "      <td>T230</td>\n",
       "      <td>1300  N LARAMIE AVE, Chicago, IL</td>\n",
       "      <td>41.904194</td>\n",
       "      <td>-87.756155</td>\n",
       "      <td>9</td>\n",
       "    </tr>\n",
       "    <tr>\n",
       "      <th>116179</th>\n",
       "      <td>116180</td>\n",
       "      <td>2014-10-02</td>\n",
       "      <td>3900 North Springfield Avenue, Chicago, IL 606...</td>\n",
       "      <td>UNSPECIFIED CULEX</td>\n",
       "      <td>39</td>\n",
       "      <td>N SPRINGFIELD AVE</td>\n",
       "      <td>T228</td>\n",
       "      <td>3900  N SPRINGFIELD AVE, Chicago, IL</td>\n",
       "      <td>41.951866</td>\n",
       "      <td>-87.725057</td>\n",
       "      <td>8</td>\n",
       "    </tr>\n",
       "    <tr>\n",
       "      <th>116187</th>\n",
       "      <td>116188</td>\n",
       "      <td>2014-10-02</td>\n",
       "      <td>5100 West 72nd Street, Chicago, IL 60638, USA</td>\n",
       "      <td>UNSPECIFIED CULEX</td>\n",
       "      <td>51</td>\n",
       "      <td>W 72ND ST</td>\n",
       "      <td>T035</td>\n",
       "      <td>5100  W 72ND ST, Chicago, IL</td>\n",
       "      <td>41.763733</td>\n",
       "      <td>-87.742302</td>\n",
       "      <td>8</td>\n",
       "    </tr>\n",
       "    <tr>\n",
       "      <th>116195</th>\n",
       "      <td>116196</td>\n",
       "      <td>2014-10-02</td>\n",
       "      <td>5800 North Ridge Avenue, Chicago, IL 60660, USA</td>\n",
       "      <td>UNSPECIFIED CULEX</td>\n",
       "      <td>58</td>\n",
       "      <td>N RIDGE AVE</td>\n",
       "      <td>T231</td>\n",
       "      <td>5800  N RIDGE AVE, Chicago, IL</td>\n",
       "      <td>41.987280</td>\n",
       "      <td>-87.666066</td>\n",
       "      <td>8</td>\n",
       "    </tr>\n",
       "    <tr>\n",
       "      <th>116203</th>\n",
       "      <td>116204</td>\n",
       "      <td>2014-10-02</td>\n",
       "      <td>1700 North Ashland Avenue, Chicago, IL 60622, USA</td>\n",
       "      <td>UNSPECIFIED CULEX</td>\n",
       "      <td>17</td>\n",
       "      <td>N ASHLAND AVE</td>\n",
       "      <td>T232</td>\n",
       "      <td>1700  N ASHLAND AVE, Chicago, IL</td>\n",
       "      <td>41.912563</td>\n",
       "      <td>-87.668055</td>\n",
       "      <td>9</td>\n",
       "    </tr>\n",
       "    <tr>\n",
       "      <th>116211</th>\n",
       "      <td>116212</td>\n",
       "      <td>2014-10-02</td>\n",
       "      <td>4600 North Melvina Avenue, Chicago, IL 60630, USA</td>\n",
       "      <td>UNSPECIFIED CULEX</td>\n",
       "      <td>46</td>\n",
       "      <td>N MELVINA AVE</td>\n",
       "      <td>T002A</td>\n",
       "      <td>4600  N MELVINA AVE, Chicago, IL</td>\n",
       "      <td>41.965571</td>\n",
       "      <td>-87.781978</td>\n",
       "      <td>8</td>\n",
       "    </tr>\n",
       "    <tr>\n",
       "      <th>116219</th>\n",
       "      <td>116220</td>\n",
       "      <td>2014-10-02</td>\n",
       "      <td>6500 West Dakin Street, Chicago, IL 60634, USA</td>\n",
       "      <td>UNSPECIFIED CULEX</td>\n",
       "      <td>65</td>\n",
       "      <td>W DAKIN ST</td>\n",
       "      <td>T002B</td>\n",
       "      <td>6500  W DAKIN ST, Chicago, IL</td>\n",
       "      <td>41.951878</td>\n",
       "      <td>-87.789234</td>\n",
       "      <td>9</td>\n",
       "    </tr>\n",
       "    <tr>\n",
       "      <th>116227</th>\n",
       "      <td>116228</td>\n",
       "      <td>2014-10-02</td>\n",
       "      <td>7100 North Harlem Avenue, Chicago, IL 60631, USA</td>\n",
       "      <td>UNSPECIFIED CULEX</td>\n",
       "      <td>71</td>\n",
       "      <td>N HARLEM AVE</td>\n",
       "      <td>T233</td>\n",
       "      <td>7100  N HARLEM AVE, Chicago, IL</td>\n",
       "      <td>42.009876</td>\n",
       "      <td>-87.807277</td>\n",
       "      <td>9</td>\n",
       "    </tr>\n",
       "    <tr>\n",
       "      <th>116235</th>\n",
       "      <td>116236</td>\n",
       "      <td>2014-10-02</td>\n",
       "      <td>3400 North Long Avenue, Chicago, IL 60641, USA</td>\n",
       "      <td>UNSPECIFIED CULEX</td>\n",
       "      <td>34</td>\n",
       "      <td>N LONG AVE</td>\n",
       "      <td>T234</td>\n",
       "      <td>3400  N LONG AVE, Chicago, IL</td>\n",
       "      <td>41.942285</td>\n",
       "      <td>-87.761726</td>\n",
       "      <td>8</td>\n",
       "    </tr>\n",
       "    <tr>\n",
       "      <th>116243</th>\n",
       "      <td>116244</td>\n",
       "      <td>2014-10-02</td>\n",
       "      <td>4200 West 65th Street, Chicago, IL 60621, USA</td>\n",
       "      <td>UNSPECIFIED CULEX</td>\n",
       "      <td>42</td>\n",
       "      <td>W 65TH ST</td>\n",
       "      <td>T235</td>\n",
       "      <td>4200  W 65TH ST, Chicago, IL</td>\n",
       "      <td>41.776428</td>\n",
       "      <td>-87.627096</td>\n",
       "      <td>8</td>\n",
       "    </tr>\n",
       "    <tr>\n",
       "      <th>116251</th>\n",
       "      <td>116252</td>\n",
       "      <td>2014-10-02</td>\n",
       "      <td>6200 North Mcclellan Avenue, Chicago, IL 60646...</td>\n",
       "      <td>UNSPECIFIED CULEX</td>\n",
       "      <td>62</td>\n",
       "      <td>N MCCLELLAN AVE</td>\n",
       "      <td>T236</td>\n",
       "      <td>6200  N MCCLELLAN AVE, Chicago, IL</td>\n",
       "      <td>41.994679</td>\n",
       "      <td>-87.770899</td>\n",
       "      <td>8</td>\n",
       "    </tr>\n",
       "    <tr>\n",
       "      <th>116259</th>\n",
       "      <td>116260</td>\n",
       "      <td>2014-10-02</td>\n",
       "      <td>2900 West 85th Street, Chicago, IL 60652, USA</td>\n",
       "      <td>UNSPECIFIED CULEX</td>\n",
       "      <td>29</td>\n",
       "      <td>W 85TH ST</td>\n",
       "      <td>T237</td>\n",
       "      <td>2900  W 85TH ST, Chicago, IL</td>\n",
       "      <td>41.738903</td>\n",
       "      <td>-87.695443</td>\n",
       "      <td>8</td>\n",
       "    </tr>\n",
       "    <tr>\n",
       "      <th>116267</th>\n",
       "      <td>116268</td>\n",
       "      <td>2014-10-02</td>\n",
       "      <td>3400 West 77th Street, Chicago, IL 60652, USA</td>\n",
       "      <td>UNSPECIFIED CULEX</td>\n",
       "      <td>34</td>\n",
       "      <td>W 77TH ST</td>\n",
       "      <td>T238</td>\n",
       "      <td>3400  W 77TH ST, Chicago, IL</td>\n",
       "      <td>41.753391</td>\n",
       "      <td>-87.707394</td>\n",
       "      <td>8</td>\n",
       "    </tr>\n",
       "    <tr>\n",
       "      <th>116275</th>\n",
       "      <td>116276</td>\n",
       "      <td>2014-10-02</td>\n",
       "      <td>5100 West 63rd Place, Chicago, IL 60638, USA</td>\n",
       "      <td>UNSPECIFIED CULEX</td>\n",
       "      <td>51</td>\n",
       "      <td>W 63RD PL</td>\n",
       "      <td>T065A</td>\n",
       "      <td>5100  W 63RD PL, Chicago, IL</td>\n",
       "      <td>41.777689</td>\n",
       "      <td>-87.749149</td>\n",
       "      <td>9</td>\n",
       "    </tr>\n",
       "    <tr>\n",
       "      <th>116283</th>\n",
       "      <td>116284</td>\n",
       "      <td>2014-10-02</td>\n",
       "      <td>9600 South Longwood Drive, Chicago, IL 60643, USA</td>\n",
       "      <td>UNSPECIFIED CULEX</td>\n",
       "      <td>96</td>\n",
       "      <td>S LONGWOOD DR</td>\n",
       "      <td>T094B</td>\n",
       "      <td>9600  S LONGWOOD DR, Chicago, IL</td>\n",
       "      <td>41.719140</td>\n",
       "      <td>-87.669539</td>\n",
       "      <td>9</td>\n",
       "    </tr>\n",
       "    <tr>\n",
       "      <th>116291</th>\n",
       "      <td>116292</td>\n",
       "      <td>2014-10-02</td>\n",
       "      <td>2100 North Cannon Drive, Chicago, IL 60614, USA</td>\n",
       "      <td>UNSPECIFIED CULEX</td>\n",
       "      <td>21</td>\n",
       "      <td>N CANNON DR</td>\n",
       "      <td>T054C</td>\n",
       "      <td>2100  N CANNON DR, Chicago, IL</td>\n",
       "      <td>41.925652</td>\n",
       "      <td>-87.633590</td>\n",
       "      <td>8</td>\n",
       "    </tr>\n",
       "  </tbody>\n",
       "</table>\n",
       "<p>14345 rows × 11 columns</p>\n",
       "</div>"
      ],
      "text/plain": [
       "            Id        Date                                            Address  \\\n",
       "6            7  2008-06-11  4100 North Oak Park Avenue, Chicago, IL 60634,...   \n",
       "14          15  2008-06-11  6200 North Mandell Avenue, Chicago, IL 60646, USA   \n",
       "22          23  2008-06-11    7900 West Foster Avenue, Chicago, IL 60656, USA   \n",
       "30          31  2008-06-11   1500 West Webster Avenue, Chicago, IL 60614, USA   \n",
       "38          39  2008-06-11     2500 West Grand Avenue, Chicago, IL 60654, USA   \n",
       "46          47  2008-06-11        1100 Roosevelt Road, Chicago, IL 60608, USA   \n",
       "54          55  2008-06-11   1100 West Chicago Avenue, Chicago, IL 60642, USA   \n",
       "62          63  2008-06-11    2100 North Stave Street, Chicago, IL 60647, USA   \n",
       "70          71  2008-06-11    2200 North Cannon Drive, Chicago, IL 60614, USA   \n",
       "78          79  2008-06-11     2200 West 113th Street, Chicago, IL 60643, USA   \n",
       "86          87  2008-06-11   1100 South Peoria Street, Chicago, IL 60608, USA   \n",
       "94          95  2008-06-11      1700 West 95th Street, Chicago, IL 60643, USA   \n",
       "102        103  2008-06-11      2200 West 89th Street, Chicago, IL 60643, USA   \n",
       "110        111  2008-06-11       North Streeter Drive, Chicago, IL 60611, USA   \n",
       "118        119  2008-06-11  6500 North Oak Park Avenue, Chicago, IL 60631,...   \n",
       "126        127  2008-06-11   7500 North Oakley Avenue, Chicago, IL 60645, USA   \n",
       "134        135  2008-06-11     1500 North Long Avenue, Chicago, IL 60651, USA   \n",
       "142        143  2008-06-11  8900 South Carpenter Street, Chicago, IL 60620...   \n",
       "150        151  2008-06-11   9100 West Higgins Avenue, Chicago, IL 60656, USA   \n",
       "158        159  2008-06-11  3600 North Pittsburgh Avenue, Chicago, IL 6063...   \n",
       "166        167  2008-06-11    7200 North Oketo Avenue, Chicago, IL 60631, USA   \n",
       "174        175  2008-06-11  3800 North California Avenue, Chicago, IL 6061...   \n",
       "182        183  2008-06-11  4900 West Balmoral Avenue, Chicago, IL 60630, USA   \n",
       "190        191  2008-06-11  5800 North Western Avenue, Chicago, IL 60659, USA   \n",
       "198        199  2008-06-11  5000 South Central Avenue, Chicago, IL 60638, USA   \n",
       "206        207  2008-06-11  1400 North Sacramento Avenue, Chicago, IL 6062...   \n",
       "214        215  2008-06-11           South Vincennes Avenue, Chicago, IL, USA   \n",
       "222        223  2008-06-11  University of Illinois at Chicago, 1100 South ...   \n",
       "230        231  2008-06-11    1100 South State Street, Chicago, IL 60605, USA   \n",
       "238        239  2008-06-11       4200 West 127th Street, Alsip, IL 60803, USA   \n",
       "...        ...         ...                                                ...   \n",
       "116059  116060  2014-10-02     1200 West 120th Street, Chicago, IL 60643, USA   \n",
       "116067  116068  2014-10-02     South Baltimore Avenue, Chicago, IL 60617, USA   \n",
       "116075  116076  2014-10-02             South Oglesby Avenue, Chicago, IL, USA   \n",
       "116083  116084  2014-10-02     2600 East 136th Street, Chicago, IL 60633, USA   \n",
       "116091  116092  2014-10-02  4000 North Kedvale Avenue, Chicago, IL 60641, USA   \n",
       "116099  116100  2014-10-02  2900 North Kenneth Avenue, Chicago, IL 60641, USA   \n",
       "116107  116108  2014-10-02  3700 North Kilbourn Avenue, Chicago, IL 60641,...   \n",
       "116115  116116  2014-10-02   4800 West Montana Street, Chicago, IL 60639, USA   \n",
       "116123  116124  2014-10-02  5100 North Mont Clare Avenue, Chicago, IL 6065...   \n",
       "116131  116132  2014-10-02  8200 South Kostner Avenue, Chicago, IL 60652, USA   \n",
       "116139  116140  2014-10-02                  East 91st Place, Chicago, IL, USA   \n",
       "116147  116148  2014-10-02   1700 West Addison Street, Chicago, IL 60613, USA   \n",
       "116155  116156  2014-10-02          West Garfield Boulevard, Chicago, IL, USA   \n",
       "116163  116164  2014-10-02             South Wallace Street, Chicago, IL, USA   \n",
       "116171  116172  2014-10-02  1300 North Laramie Avenue, Chicago, IL 60651, USA   \n",
       "116179  116180  2014-10-02  3900 North Springfield Avenue, Chicago, IL 606...   \n",
       "116187  116188  2014-10-02      5100 West 72nd Street, Chicago, IL 60638, USA   \n",
       "116195  116196  2014-10-02    5800 North Ridge Avenue, Chicago, IL 60660, USA   \n",
       "116203  116204  2014-10-02  1700 North Ashland Avenue, Chicago, IL 60622, USA   \n",
       "116211  116212  2014-10-02  4600 North Melvina Avenue, Chicago, IL 60630, USA   \n",
       "116219  116220  2014-10-02     6500 West Dakin Street, Chicago, IL 60634, USA   \n",
       "116227  116228  2014-10-02   7100 North Harlem Avenue, Chicago, IL 60631, USA   \n",
       "116235  116236  2014-10-02     3400 North Long Avenue, Chicago, IL 60641, USA   \n",
       "116243  116244  2014-10-02      4200 West 65th Street, Chicago, IL 60621, USA   \n",
       "116251  116252  2014-10-02  6200 North Mcclellan Avenue, Chicago, IL 60646...   \n",
       "116259  116260  2014-10-02      2900 West 85th Street, Chicago, IL 60652, USA   \n",
       "116267  116268  2014-10-02      3400 West 77th Street, Chicago, IL 60652, USA   \n",
       "116275  116276  2014-10-02       5100 West 63rd Place, Chicago, IL 60638, USA   \n",
       "116283  116284  2014-10-02  9600 South Longwood Drive, Chicago, IL 60643, USA   \n",
       "116291  116292  2014-10-02    2100 North Cannon Drive, Chicago, IL 60614, USA   \n",
       "\n",
       "                  Species  Block              Street   Trap  \\\n",
       "6       UNSPECIFIED CULEX     41      N OAK PARK AVE   T002   \n",
       "14      UNSPECIFIED CULEX     62       N MANDELL AVE   T007   \n",
       "22      UNSPECIFIED CULEX     79        W FOSTER AVE   T015   \n",
       "30      UNSPECIFIED CULEX     15       W WEBSTER AVE   T045   \n",
       "38      UNSPECIFIED CULEX     25         W GRAND AVE   T046   \n",
       "46      UNSPECIFIED CULEX     11         W ROOSEVELT   T048   \n",
       "54      UNSPECIFIED CULEX     11           W CHICAGO   T049   \n",
       "62      UNSPECIFIED CULEX     21          N STAVE ST   T050   \n",
       "70      UNSPECIFIED CULEX     22         N CANNON DR   T054   \n",
       "78      UNSPECIFIED CULEX     22          W 113TH ST   T086   \n",
       "86      UNSPECIFIED CULEX     11         S PEORIA ST   T091   \n",
       "94      UNSPECIFIED CULEX     17           W 95TH ST   T094   \n",
       "102     UNSPECIFIED CULEX     22           W 89TH ST   T096   \n",
       "110     UNSPECIFIED CULEX     53       N STREETER DR   T129   \n",
       "118     UNSPECIFIED CULEX     65      N OAK PARK AVE   T143   \n",
       "126     UNSPECIFIED CULEX     75        N OAKLEY AVE   T148   \n",
       "134     UNSPECIFIED CULEX     15          N LONG AVE   T153   \n",
       "142     UNSPECIFIED CULEX     89      S CARPENTER ST   T159   \n",
       "150     UNSPECIFIED CULEX     91       W HIGGINS AVE   T009   \n",
       "158     UNSPECIFIED CULEX     36    N PITTSBURGH AVE   T011   \n",
       "166     UNSPECIFIED CULEX     72         N OKETO AVE   T016   \n",
       "174     UNSPECIFIED CULEX     38    N CALIFORNIA AVE   T019   \n",
       "182     UNSPECIFIED CULEX     49      W BALMORAL AVE   T025   \n",
       "190     UNSPECIFIED CULEX     58       N WESTERN AVE   T028   \n",
       "198     UNSPECIFIED CULEX     50       S CENTRAL AVE   T031   \n",
       "206     UNSPECIFIED CULEX     14       N HUMBOLDT DR   T033   \n",
       "214     UNSPECIFIED CULEX     10         S VINCENNES   T089   \n",
       "222     UNSPECIFIED CULEX     11       S ASHLAND AVE   T090   \n",
       "230     UNSPECIFIED CULEX     11          S STATE ST   T092   \n",
       "238     UNSPECIFIED CULEX     42          W 127TH PL   T135   \n",
       "...                   ...    ...                 ...    ...   \n",
       "116059  UNSPECIFIED CULEX     12          W 120TH ST  T090C   \n",
       "116067  UNSPECIFIED CULEX     12     S BALTIMORE AVE  T200A   \n",
       "116075  UNSPECIFIED CULEX     10       S OGLESBY AVE  T128A   \n",
       "116083  UNSPECIFIED CULEX     26          E 136TH ST  T200B   \n",
       "116091  UNSPECIFIED CULEX     40       N KEDVALE AVE  T218A   \n",
       "116099  UNSPECIFIED CULEX     29       N KENNETH AVE  T218C   \n",
       "116107  UNSPECIFIED CULEX     37      N KILBOURN AVE  T218B   \n",
       "116115  UNSPECIFIED CULEX     48        W MONTANA ST   T222   \n",
       "116123  UNSPECIFIED CULEX     51    N MONT CLARE AVE   T223   \n",
       "116131  UNSPECIFIED CULEX     82       S KOSTNER AVE   T225   \n",
       "116139  UNSPECIFIED CULEX     65           E 91ST PL   T227   \n",
       "116147  UNSPECIFIED CULEX     17        W ADDISON ST   T224   \n",
       "116155  UNSPECIFIED CULEX     90     W GARFIELD BLVD   T226   \n",
       "116163  UNSPECIFIED CULEX     11        S WALLACE ST   T229   \n",
       "116171  UNSPECIFIED CULEX     13       N LARAMIE AVE   T230   \n",
       "116179  UNSPECIFIED CULEX     39   N SPRINGFIELD AVE   T228   \n",
       "116187  UNSPECIFIED CULEX     51           W 72ND ST   T035   \n",
       "116195  UNSPECIFIED CULEX     58         N RIDGE AVE   T231   \n",
       "116203  UNSPECIFIED CULEX     17       N ASHLAND AVE   T232   \n",
       "116211  UNSPECIFIED CULEX     46       N MELVINA AVE  T002A   \n",
       "116219  UNSPECIFIED CULEX     65          W DAKIN ST  T002B   \n",
       "116227  UNSPECIFIED CULEX     71        N HARLEM AVE   T233   \n",
       "116235  UNSPECIFIED CULEX     34          N LONG AVE   T234   \n",
       "116243  UNSPECIFIED CULEX     42           W 65TH ST   T235   \n",
       "116251  UNSPECIFIED CULEX     62     N MCCLELLAN AVE   T236   \n",
       "116259  UNSPECIFIED CULEX     29           W 85TH ST   T237   \n",
       "116267  UNSPECIFIED CULEX     34           W 77TH ST   T238   \n",
       "116275  UNSPECIFIED CULEX     51           W 63RD PL  T065A   \n",
       "116283  UNSPECIFIED CULEX     96       S LONGWOOD DR  T094B   \n",
       "116291  UNSPECIFIED CULEX     21         N CANNON DR  T054C   \n",
       "\n",
       "                      AddressNumberAndStreet   Latitude  Longitude  \\\n",
       "6          4100  N OAK PARK AVE, Chicago, IL  41.954690 -87.800991   \n",
       "14          6200  N MANDELL AVE, Chicago, IL  41.994991 -87.769279   \n",
       "22           7900  W FOSTER AVE, Chicago, IL  41.974089 -87.824812   \n",
       "30          1500  W WEBSTER AVE, Chicago, IL  41.921600 -87.666455   \n",
       "38            2500  W GRAND AVE, Chicago, IL  41.891118 -87.654491   \n",
       "46            1100  W ROOSEVELT, Chicago, IL  41.867108 -87.654224   \n",
       "54              1100  W CHICAGO, Chicago, IL  41.896282 -87.655232   \n",
       "62             2100  N STAVE ST, Chicago, IL  41.919343 -87.694259   \n",
       "70            2200  N CANNON DR, Chicago, IL  41.921965 -87.632085   \n",
       "78             2200  W 113TH ST, Chicago, IL  41.688324 -87.676709   \n",
       "86            1100  S PEORIA ST, Chicago, IL  41.862292 -87.648860   \n",
       "94              1700  W 95TH ST, Chicago, IL  41.720848 -87.666014   \n",
       "102             2200  W 89TH ST, Chicago, IL  41.731922 -87.677512   \n",
       "110         5300  N STREETER DR, Chicago, IL  41.891126 -87.611560   \n",
       "118        6500  N OAK PARK AVE, Chicago, IL  41.999129 -87.795585   \n",
       "126          7500  N OAKLEY AVE, Chicago, IL  42.017430 -87.687769   \n",
       "134            1500  N LONG AVE, Chicago, IL  41.907645 -87.760886   \n",
       "142        8900  S CARPENTER ST, Chicago, IL  41.732984 -87.649642   \n",
       "150         9100  W HIGGINS AVE, Chicago, IL  41.981964 -87.812827   \n",
       "158      3600  N PITTSBURGH AVE, Chicago, IL  41.944869 -87.832763   \n",
       "166           7200  N OKETO AVE, Chicago, IL  42.011601 -87.811506   \n",
       "174      3800  N CALIFORNIA AVE, Chicago, IL  41.949830 -87.698457   \n",
       "182        4900  W BALMORAL AVE, Chicago, IL  41.979243 -87.750938   \n",
       "190         5800  N WESTERN AVE, Chicago, IL  41.986921 -87.689778   \n",
       "198         5000  S CENTRAL AVE, Chicago, IL  41.801498 -87.763416   \n",
       "206         1400  N HUMBOLDT DR, Chicago, IL  41.906638 -87.701431   \n",
       "214           1000  S VINCENNES, Chicago, IL  41.723195 -87.649970   \n",
       "222         1100  S ASHLAND AVE, Chicago, IL  41.868077 -87.666901   \n",
       "230            1100  S STATE ST, Chicago, IL  41.869216 -87.627561   \n",
       "238            4200  W 127TH PL, Chicago, IL  41.662014 -87.724608   \n",
       "...                                      ...        ...        ...   \n",
       "116059         1200  W 120TH ST, Chicago, IL  41.675876 -87.651515   \n",
       "116067    1200  S BALTIMORE AVE, Chicago, IL  41.731929 -87.548540   \n",
       "116075      1000  S OGLESBY AVE, Chicago, IL  41.738583 -87.567726   \n",
       "116083         2600  E 136TH ST, Chicago, IL  41.646541 -87.543762   \n",
       "116091      4000  N KEDVALE AVE, Chicago, IL  41.954770 -87.730890   \n",
       "116099      2900  N KENNETH AVE, Chicago, IL  41.933652 -87.738416   \n",
       "116107     3700  N KILBOURN AVE, Chicago, IL  41.948280 -87.741340   \n",
       "116115       4800  W MONTANA ST, Chicago, IL  41.925198 -87.746381   \n",
       "116123   5100  N MONT CLARE AVE, Chicago, IL  41.973845 -87.805059   \n",
       "116131      8200  S KOSTNER AVE, Chicago, IL  41.743402 -87.731435   \n",
       "116139          6500  E 91ST PL, Chicago, IL  41.728495 -87.600963   \n",
       "116147       1700  W ADDISON ST, Chicago, IL  41.947227 -87.671457   \n",
       "116155    9000  W GARFIELD BLVD, Chicago, IL  41.793818 -87.654234   \n",
       "116163       1100  S WALLACE ST, Chicago, IL  41.753411 -87.639817   \n",
       "116171      1300  N LARAMIE AVE, Chicago, IL  41.904194 -87.756155   \n",
       "116179  3900  N SPRINGFIELD AVE, Chicago, IL  41.951866 -87.725057   \n",
       "116187          5100  W 72ND ST, Chicago, IL  41.763733 -87.742302   \n",
       "116195        5800  N RIDGE AVE, Chicago, IL  41.987280 -87.666066   \n",
       "116203      1700  N ASHLAND AVE, Chicago, IL  41.912563 -87.668055   \n",
       "116211      4600  N MELVINA AVE, Chicago, IL  41.965571 -87.781978   \n",
       "116219         6500  W DAKIN ST, Chicago, IL  41.951878 -87.789234   \n",
       "116227       7100  N HARLEM AVE, Chicago, IL  42.009876 -87.807277   \n",
       "116235         3400  N LONG AVE, Chicago, IL  41.942285 -87.761726   \n",
       "116243          4200  W 65TH ST, Chicago, IL  41.776428 -87.627096   \n",
       "116251    6200  N MCCLELLAN AVE, Chicago, IL  41.994679 -87.770899   \n",
       "116259          2900  W 85TH ST, Chicago, IL  41.738903 -87.695443   \n",
       "116267          3400  W 77TH ST, Chicago, IL  41.753391 -87.707394   \n",
       "116275          5100  W 63RD PL, Chicago, IL  41.777689 -87.749149   \n",
       "116283      9600  S LONGWOOD DR, Chicago, IL  41.719140 -87.669539   \n",
       "116291        2100  N CANNON DR, Chicago, IL  41.925652 -87.633590   \n",
       "\n",
       "        AddressAccuracy  \n",
       "6                     9  \n",
       "14                    9  \n",
       "22                    8  \n",
       "30                    8  \n",
       "38                    8  \n",
       "46                    8  \n",
       "54                    8  \n",
       "62                    8  \n",
       "70                    8  \n",
       "78                    8  \n",
       "86                    8  \n",
       "94                    9  \n",
       "102                   8  \n",
       "110                   5  \n",
       "118                   8  \n",
       "126                   8  \n",
       "134                   8  \n",
       "142                   8  \n",
       "150                   8  \n",
       "158                   8  \n",
       "166                   8  \n",
       "174                   9  \n",
       "182                   9  \n",
       "190                   9  \n",
       "198                   9  \n",
       "206                   9  \n",
       "214                   5  \n",
       "222                   9  \n",
       "230                   8  \n",
       "238                   8  \n",
       "...                 ...  \n",
       "116059                8  \n",
       "116067                5  \n",
       "116075                5  \n",
       "116083                8  \n",
       "116091                8  \n",
       "116099                9  \n",
       "116107                9  \n",
       "116115                8  \n",
       "116123                9  \n",
       "116131                8  \n",
       "116139                5  \n",
       "116147                9  \n",
       "116155                5  \n",
       "116163                5  \n",
       "116171                9  \n",
       "116179                8  \n",
       "116187                8  \n",
       "116195                8  \n",
       "116203                9  \n",
       "116211                8  \n",
       "116219                9  \n",
       "116227                9  \n",
       "116235                8  \n",
       "116243                8  \n",
       "116251                8  \n",
       "116259                8  \n",
       "116267                8  \n",
       "116275                9  \n",
       "116283                9  \n",
       "116291                8  \n",
       "\n",
       "[14345 rows x 11 columns]"
      ]
     },
     "execution_count": 8,
     "metadata": {},
     "output_type": "execute_result"
    }
   ],
   "source": [
    "## PRINTING ONLY NEW SPECIES IN TEST\n",
    "\n",
    "df_test.loc[df_test['Species'] == 'UNSPECIFIED CULEX']"
   ]
  },
  {
   "cell_type": "code",
   "execution_count": null,
   "metadata": {
    "collapsed": true
   },
   "outputs": [],
   "source": [
    "pd.concat([df_train.set_index('Trap'),df_train.set_index('Trap')], axis=1, join='inner')"
   ]
  },
  {
   "cell_type": "code",
   "execution_count": null,
   "metadata": {
    "collapsed": true
   },
   "outputs": [],
   "source": [
    "list(df_train_test)"
   ]
  },
  {
   "cell_type": "code",
   "execution_count": null,
   "metadata": {
    "collapsed": true
   },
   "outputs": [],
   "source": [
    "df_train_test.columns = ['Date_1', 'Address_1', 'Species_1', 'Block_1', 'Street_1', 'AddressNumberAndStreet_1', 'Latitude_1', 'Longitude_1', 'AddressAccuracy_1', 'NumMosquitos_1', 'WnvPresent_1', 'Date_2', 'Address_2', 'Species_2', 'Block_2', 'Street_2', 'AddressNumberAndStreet_2', 'Latitude_2', 'Longitude_2', 'AddressAccuracy_2', 'NumMosquitos_2', 'WnvPresent_2']"
   ]
  },
  {
   "cell_type": "code",
   "execution_count": null,
   "metadata": {
    "collapsed": true
   },
   "outputs": [],
   "source": [
    "df_train_test.head(100)"
   ]
  },
  {
   "cell_type": "code",
   "execution_count": null,
   "metadata": {
    "collapsed": true
   },
   "outputs": [],
   "source": [
    "df_train_weather.head(100)"
   ]
  },
  {
   "cell_type": "code",
   "execution_count": null,
   "metadata": {
    "collapsed": true
   },
   "outputs": [],
   "source": [
    "## CORRELATION BETWEEN WNV PRESENCE IN TRAIN DATA SET AND WNV PRESENCE IN TEST DATA SET\n",
    "\n",
    "X1 = pd.DataFrame(df_train_test['WnvPresent_1'])\n",
    "y = pd.DataFrame(df_train_test['WnvPresent_2'])\n",
    "\n",
    "## FIND BETA\n",
    "lm = linear_model.LinearRegression()\n",
    "model = lm.fit(X1,y)\n",
    "\n",
    "## RETURN BETA\n",
    "model.coef_"
   ]
  },
  {
   "cell_type": "code",
   "execution_count": null,
   "metadata": {
    "collapsed": true
   },
   "outputs": [],
   "source": [
    "from sklearn.cross_validation import cross_val_score, cross_val_predict\n",
    "from sklearn import metrics\n",
    "\n",
    "predictions = lm.predict(X1)\n",
    "print(predictions)[0:5]"
   ]
  },
  {
   "cell_type": "code",
   "execution_count": null,
   "metadata": {
    "collapsed": true
   },
   "outputs": [],
   "source": [
    "scores = cross_val_score(model, X1, y, cv=6)\n",
    "print 'Cross-validated scores:', scores"
   ]
  },
  {
   "cell_type": "code",
   "execution_count": null,
   "metadata": {
    "collapsed": true
   },
   "outputs": [],
   "source": [
    "## CORRELATION BETWEEN WNV PRESENCE IN TRAIN DATA SET AND WNV PRESENCE IN TEST DATA SET\n",
    "\n",
    "X1 = pd.DataFrame(df_train_test['NumMosquitos_1'])\n",
    "y = pd.DataFrame(df_train_test['NumMosquitos_2'])\n",
    "\n",
    "## FIND BETA\n",
    "lm = linear_model.LinearRegression()\n",
    "model = lm.fit(X1,y)\n",
    "\n",
    "## RETURN BETA\n",
    "model.coef_"
   ]
  },
  {
   "cell_type": "code",
   "execution_count": null,
   "metadata": {
    "collapsed": true
   },
   "outputs": [],
   "source": [
    "scores = cross_val_score(model, X1, y, cv=6)\n",
    "print 'Cross-validated scores:', scores"
   ]
  },
  {
   "cell_type": "code",
   "execution_count": null,
   "metadata": {
    "collapsed": true
   },
   "outputs": [],
   "source": [
    "# ‘bar’ or ‘barh’ for bar plots\n",
    "# ‘hist’ for histogram\n",
    "# ‘box’ for boxplot\n",
    "# ‘kde’ or 'density' for density plots\n",
    "# ‘area’ for area plots\n",
    "# ‘scatter’ for scatter plots\n",
    "# ‘hexbin’ for hexagonal bin plots\n",
    "# ‘pie’ for pie plots"
   ]
  },
  {
   "cell_type": "code",
   "execution_count": 89,
   "metadata": {},
   "outputs": [
    {
     "ename": "ValueError",
     "evalue": "Grouper for 'NumMosquitos' not 1-dimensional",
     "output_type": "error",
     "traceback": [
      "\u001b[0;31m---------------------------------------------------------------------------\u001b[0m",
      "\u001b[0;31mValueError\u001b[0m                                Traceback (most recent call last)",
      "\u001b[0;32m<ipython-input-89-2e5a54343056>\u001b[0m in \u001b[0;36m<module>\u001b[0;34m()\u001b[0m\n\u001b[0;32m----> 1\u001b[0;31m \u001b[0mdf_train_test\u001b[0m\u001b[0;34m.\u001b[0m\u001b[0mgroupby\u001b[0m\u001b[0;34m(\u001b[0m\u001b[0;34m[\u001b[0m\u001b[0;34m'NumMosquitos'\u001b[0m\u001b[0;34m]\u001b[0m\u001b[0;34m)\u001b[0m\u001b[0;34m[\u001b[0m\u001b[0;34m'WnvPresent'\u001b[0m\u001b[0;34m]\u001b[0m\u001b[0;34m.\u001b[0m\u001b[0mmean\u001b[0m\u001b[0;34m(\u001b[0m\u001b[0;34m)\u001b[0m\u001b[0;34m.\u001b[0m\u001b[0mplot\u001b[0m\u001b[0;34m.\u001b[0m\u001b[0mbar\u001b[0m\u001b[0;34m(\u001b[0m\u001b[0;34m)\u001b[0m\u001b[0;34m\u001b[0m\u001b[0m\n\u001b[0m",
      "\u001b[0;32m/Users/ncarr/anaconda2/lib/python2.7/site-packages/pandas/core/generic.pyc\u001b[0m in \u001b[0;36mgroupby\u001b[0;34m(self, by, axis, level, as_index, sort, group_keys, squeeze, **kwargs)\u001b[0m\n\u001b[1;32m   4269\u001b[0m         return groupby(self, by=by, axis=axis, level=level, as_index=as_index,\n\u001b[1;32m   4270\u001b[0m                        \u001b[0msort\u001b[0m\u001b[0;34m=\u001b[0m\u001b[0msort\u001b[0m\u001b[0;34m,\u001b[0m \u001b[0mgroup_keys\u001b[0m\u001b[0;34m=\u001b[0m\u001b[0mgroup_keys\u001b[0m\u001b[0;34m,\u001b[0m \u001b[0msqueeze\u001b[0m\u001b[0;34m=\u001b[0m\u001b[0msqueeze\u001b[0m\u001b[0;34m,\u001b[0m\u001b[0;34m\u001b[0m\u001b[0m\n\u001b[0;32m-> 4271\u001b[0;31m                        **kwargs)\n\u001b[0m\u001b[1;32m   4272\u001b[0m \u001b[0;34m\u001b[0m\u001b[0m\n\u001b[1;32m   4273\u001b[0m     def asfreq(self, freq, method=None, how=None, normalize=False,\n",
      "\u001b[0;32m/Users/ncarr/anaconda2/lib/python2.7/site-packages/pandas/core/groupby.pyc\u001b[0m in \u001b[0;36mgroupby\u001b[0;34m(obj, by, **kwds)\u001b[0m\n\u001b[1;32m   1624\u001b[0m         \u001b[0;32mraise\u001b[0m \u001b[0mTypeError\u001b[0m\u001b[0;34m(\u001b[0m\u001b[0;34m'invalid type: %s'\u001b[0m \u001b[0;34m%\u001b[0m \u001b[0mtype\u001b[0m\u001b[0;34m(\u001b[0m\u001b[0mobj\u001b[0m\u001b[0;34m)\u001b[0m\u001b[0;34m)\u001b[0m\u001b[0;34m\u001b[0m\u001b[0m\n\u001b[1;32m   1625\u001b[0m \u001b[0;34m\u001b[0m\u001b[0m\n\u001b[0;32m-> 1626\u001b[0;31m     \u001b[0;32mreturn\u001b[0m \u001b[0mklass\u001b[0m\u001b[0;34m(\u001b[0m\u001b[0mobj\u001b[0m\u001b[0;34m,\u001b[0m \u001b[0mby\u001b[0m\u001b[0;34m,\u001b[0m \u001b[0;34m**\u001b[0m\u001b[0mkwds\u001b[0m\u001b[0;34m)\u001b[0m\u001b[0;34m\u001b[0m\u001b[0m\n\u001b[0m\u001b[1;32m   1627\u001b[0m \u001b[0;34m\u001b[0m\u001b[0m\n\u001b[1;32m   1628\u001b[0m \u001b[0;34m\u001b[0m\u001b[0m\n",
      "\u001b[0;32m/Users/ncarr/anaconda2/lib/python2.7/site-packages/pandas/core/groupby.pyc\u001b[0m in \u001b[0;36m__init__\u001b[0;34m(self, obj, keys, axis, level, grouper, exclusions, selection, as_index, sort, group_keys, squeeze, **kwargs)\u001b[0m\n\u001b[1;32m    390\u001b[0m                                                     \u001b[0mlevel\u001b[0m\u001b[0;34m=\u001b[0m\u001b[0mlevel\u001b[0m\u001b[0;34m,\u001b[0m\u001b[0;34m\u001b[0m\u001b[0m\n\u001b[1;32m    391\u001b[0m                                                     \u001b[0msort\u001b[0m\u001b[0;34m=\u001b[0m\u001b[0msort\u001b[0m\u001b[0;34m,\u001b[0m\u001b[0;34m\u001b[0m\u001b[0m\n\u001b[0;32m--> 392\u001b[0;31m                                                     mutated=self.mutated)\n\u001b[0m\u001b[1;32m    393\u001b[0m \u001b[0;34m\u001b[0m\u001b[0m\n\u001b[1;32m    394\u001b[0m         \u001b[0mself\u001b[0m\u001b[0;34m.\u001b[0m\u001b[0mobj\u001b[0m \u001b[0;34m=\u001b[0m \u001b[0mobj\u001b[0m\u001b[0;34m\u001b[0m\u001b[0m\n",
      "\u001b[0;32m/Users/ncarr/anaconda2/lib/python2.7/site-packages/pandas/core/groupby.pyc\u001b[0m in \u001b[0;36m_get_grouper\u001b[0;34m(obj, key, axis, level, sort, mutated)\u001b[0m\n\u001b[1;32m   2636\u001b[0m                         \u001b[0msort\u001b[0m\u001b[0;34m=\u001b[0m\u001b[0msort\u001b[0m\u001b[0;34m,\u001b[0m\u001b[0;34m\u001b[0m\u001b[0m\n\u001b[1;32m   2637\u001b[0m                         in_axis=in_axis) \\\n\u001b[0;32m-> 2638\u001b[0;31m             \u001b[0;32mif\u001b[0m \u001b[0;32mnot\u001b[0m \u001b[0misinstance\u001b[0m\u001b[0;34m(\u001b[0m\u001b[0mgpr\u001b[0m\u001b[0;34m,\u001b[0m \u001b[0mGrouping\u001b[0m\u001b[0;34m)\u001b[0m \u001b[0;32melse\u001b[0m \u001b[0mgpr\u001b[0m\u001b[0;34m\u001b[0m\u001b[0m\n\u001b[0m\u001b[1;32m   2639\u001b[0m \u001b[0;34m\u001b[0m\u001b[0m\n\u001b[1;32m   2640\u001b[0m         \u001b[0mgroupings\u001b[0m\u001b[0;34m.\u001b[0m\u001b[0mappend\u001b[0m\u001b[0;34m(\u001b[0m\u001b[0mping\u001b[0m\u001b[0;34m)\u001b[0m\u001b[0;34m\u001b[0m\u001b[0m\n",
      "\u001b[0;32m/Users/ncarr/anaconda2/lib/python2.7/site-packages/pandas/core/groupby.pyc\u001b[0m in \u001b[0;36m__init__\u001b[0;34m(self, index, grouper, obj, name, level, sort, in_axis)\u001b[0m\n\u001b[1;32m   2417\u001b[0m                 \u001b[0;32mif\u001b[0m \u001b[0mgetattr\u001b[0m\u001b[0;34m(\u001b[0m\u001b[0mself\u001b[0m\u001b[0;34m.\u001b[0m\u001b[0mgrouper\u001b[0m\u001b[0;34m,\u001b[0m \u001b[0;34m'ndim'\u001b[0m\u001b[0;34m,\u001b[0m \u001b[0;36m1\u001b[0m\u001b[0;34m)\u001b[0m \u001b[0;34m!=\u001b[0m \u001b[0;36m1\u001b[0m\u001b[0;34m:\u001b[0m\u001b[0;34m\u001b[0m\u001b[0m\n\u001b[1;32m   2418\u001b[0m                     \u001b[0mt\u001b[0m \u001b[0;34m=\u001b[0m \u001b[0mself\u001b[0m\u001b[0;34m.\u001b[0m\u001b[0mname\u001b[0m \u001b[0;32mor\u001b[0m \u001b[0mstr\u001b[0m\u001b[0;34m(\u001b[0m\u001b[0mtype\u001b[0m\u001b[0;34m(\u001b[0m\u001b[0mself\u001b[0m\u001b[0;34m.\u001b[0m\u001b[0mgrouper\u001b[0m\u001b[0;34m)\u001b[0m\u001b[0;34m)\u001b[0m\u001b[0;34m\u001b[0m\u001b[0m\n\u001b[0;32m-> 2419\u001b[0;31m                     \u001b[0;32mraise\u001b[0m \u001b[0mValueError\u001b[0m\u001b[0;34m(\u001b[0m\u001b[0;34m\"Grouper for '%s' not 1-dimensional\"\u001b[0m \u001b[0;34m%\u001b[0m \u001b[0mt\u001b[0m\u001b[0;34m)\u001b[0m\u001b[0;34m\u001b[0m\u001b[0m\n\u001b[0m\u001b[1;32m   2420\u001b[0m                 \u001b[0mself\u001b[0m\u001b[0;34m.\u001b[0m\u001b[0mgrouper\u001b[0m \u001b[0;34m=\u001b[0m \u001b[0mself\u001b[0m\u001b[0;34m.\u001b[0m\u001b[0mindex\u001b[0m\u001b[0;34m.\u001b[0m\u001b[0mmap\u001b[0m\u001b[0;34m(\u001b[0m\u001b[0mself\u001b[0m\u001b[0;34m.\u001b[0m\u001b[0mgrouper\u001b[0m\u001b[0;34m)\u001b[0m\u001b[0;34m\u001b[0m\u001b[0m\n\u001b[1;32m   2421\u001b[0m                 if not (hasattr(self.grouper, \"__len__\") and\n",
      "\u001b[0;31mValueError\u001b[0m: Grouper for 'NumMosquitos' not 1-dimensional"
     ]
    }
   ],
   "source": [
    "df_train_test.groupby(['NumMosquitos'])['WnvPresent'].mean().plot.bar()"
   ]
  },
  {
   "cell_type": "code",
   "execution_count": 86,
   "metadata": {},
   "outputs": [
    {
     "data": {
      "text/plain": [
       "<matplotlib.axes._subplots.AxesSubplot at 0x1112c3750>"
      ]
     },
     "execution_count": 86,
     "metadata": {},
     "output_type": "execute_result"
    },
    {
     "data": {
      "image/png": "[encoded data removed]",
      "text/plain": [
       "<matplotlib.figure.Figure at 0x10fc78890>"
      ]
     },
     "metadata": {},
     "output_type": "display_data"
    }
   ],
   "source": [
    "df_train_test.plot(kind = 'scatter', x ='NumMosquitos',y ='Latitude')"
   ]
  },
  {
   "cell_type": "code",
   "execution_count": 87,
   "metadata": {},
   "outputs": [
    {
     "data": {
      "text/plain": [
       "<matplotlib.axes._subplots.AxesSubplot at 0x111d78b90>"
      ]
     },
     "execution_count": 87,
     "metadata": {},
     "output_type": "execute_result"
    },
    {
     "data": {
      "image/png": "[encoded data removed]",
      "text/plain": [
       "<matplotlib.figure.Figure at 0x111d8a150>"
      ]
     },
     "metadata": {},
     "output_type": "display_data"
    }
   ],
   "source": [
    "df_train_test.plot(kind = 'scatter', x ='NumMosquitos',y ='Longitude')"
   ]
  },
  {
   "cell_type": "code",
   "execution_count": 85,
   "metadata": {},
   "outputs": [
    {
     "data": {
      "text/plain": [
       "['Date',\n",
       " 'Address',\n",
       " 'Species',\n",
       " 'Block',\n",
       " 'Street',\n",
       " 'AddressNumberAndStreet',\n",
       " 'Latitude',\n",
       " 'Longitude',\n",
       " 'AddressAccuracy',\n",
       " 'NumMosquitos',\n",
       " 'WnvPresent',\n",
       " 'Date',\n",
       " 'Address',\n",
       " 'Species',\n",
       " 'Block',\n",
       " 'Street',\n",
       " 'AddressNumberAndStreet',\n",
       " 'Latitude',\n",
       " 'Longitude',\n",
       " 'AddressAccuracy',\n",
       " 'NumMosquitos',\n",
       " 'WnvPresent']"
      ]
     },
     "execution_count": 85,
     "metadata": {},
     "output_type": "execute_result"
    }
   ],
   "source": [
    "list(df_train_test)"
   ]
  },
  {
   "cell_type": "code",
   "execution_count": 65,
   "metadata": {},
   "outputs": [
    {
     "data": {
      "text/plain": [
       "['Date',\n",
       " 'Trap',\n",
       " 'NumMosquitos',\n",
       " 'WnvPresent',\n",
       " 'Year',\n",
       " 'DayofYear',\n",
       " 'CULEX ERRATICUS',\n",
       " 'CULEX PIPIENS',\n",
       " 'CULEX PIPIENS/RESTUANS',\n",
       " 'CULEX RESTUANS',\n",
       " 'CULEX SALINARIUS',\n",
       " 'CULEX TARSALIS',\n",
       " 'CULEX TERRITANS',\n",
       " 'tmax',\n",
       " 'tmin',\n",
       " 'tavg',\n",
       " 'depart',\n",
       " 'dewpoint',\n",
       " 'wetbulb',\n",
       " 'heat',\n",
       " 'cool',\n",
       " 'preciptotal',\n",
       " 'stnpressure',\n",
       " 'sealevel',\n",
       " 'resultspeed',\n",
       " 'resultdir',\n",
       " 'avgspeed']"
      ]
     },
     "execution_count": 65,
     "metadata": {},
     "output_type": "execute_result"
    }
   ],
   "source": [
    "list(df_train_weather_2)"
   ]
  },
  {
   "cell_type": "code",
   "execution_count": 104,
   "metadata": {},
   "outputs": [
    {
     "data": {
      "text/plain": [
       "<matplotlib.axes._subplots.AxesSubplot at 0x11332a250>"
      ]
     },
     "execution_count": 104,
     "metadata": {},
     "output_type": "execute_result"
    },
    {
     "data": {
      "image/png": "[encoded data removed]",
      "text/plain": [
       "<matplotlib.figure.Figure at 0x113510990>"
      ]
     },
     "metadata": {},
     "output_type": "display_data"
    }
   ],
   "source": [
    "df_train_weather_2.groupby(['WnvPresent'])['dewpoint'].mean().plot.bar()"
   ]
  },
  {
   "cell_type": "code",
   "execution_count": 106,
   "metadata": {},
   "outputs": [
    {
     "data": {
      "text/plain": [
       "<matplotlib.axes._subplots.AxesSubplot at 0x114bbebd0>"
      ]
     },
     "execution_count": 106,
     "metadata": {},
     "output_type": "execute_result"
    },
    {
     "data": {
      "image/png": "[encoded data removed]",
      "text/plain": [
       "<matplotlib.figure.Figure at 0x114d590d0>"
      ]
     },
     "metadata": {},
     "output_type": "display_data"
    }
   ],
   "source": [
    "df_train_weather_2.groupby(['NumMosquitos'])['dewpoint'].mean().plot.bar()"
   ]
  },
  {
   "cell_type": "code",
   "execution_count": 110,
   "metadata": {},
   "outputs": [
    {
     "data": {
      "text/plain": [
       "<matplotlib.axes._subplots.AxesSubplot at 0x1161cfd50>"
      ]
     },
     "execution_count": 110,
     "metadata": {},
     "output_type": "execute_result"
    },
    {
     "data": {
      "image/png": "[encoded data removed]",
      "text/plain": [
       "<matplotlib.figure.Figure at 0x11618b6d0>"
      ]
     },
     "metadata": {},
     "output_type": "display_data"
    }
   ],
   "source": [
    "df_train_weather_2.groupby(['NumMosquitos'])['wetbulb'].mean().plot.bar()"
   ]
  },
  {
   "cell_type": "code",
   "execution_count": null,
   "metadata": {
    "collapsed": true
   },
   "outputs": [],
   "source": [
    "list(df_train_weather)"
   ]
  },
  {
   "cell_type": "code",
   "execution_count": null,
   "metadata": {
    "collapsed": true
   },
   "outputs": [],
   "source": [
    "df_train_weather.head(10)"
   ]
  },
  {
   "cell_type": "code",
   "execution_count": null,
   "metadata": {
    "collapsed": true
   },
   "outputs": [],
   "source": [
    "# NOT WORKING\n",
    "# df_train_weather.groupby(['WnvPresent'])['PrecipTotal'].mean().plot.bar()"
   ]
  },
  {
   "cell_type": "code",
   "execution_count": null,
   "metadata": {
    "collapsed": true
   },
   "outputs": [],
   "source": [
    "# NOT WORKING\n",
    "# df_train_weather.groupby(['NumMosquitos'])['SeaLevel'].mean().plot.scatter()"
   ]
  },
  {
   "cell_type": "code",
   "execution_count": null,
   "metadata": {
    "collapsed": true
   },
   "outputs": [],
   "source": []
  }
 ],
 "metadata": {
  "kernelspec": {
   "display_name": "Python 2",
   "language": "python",
   "name": "python2"
  },
  "language_info": {
   "codemirror_mode": {
    "name": "ipython",
    "version": 2
   },
   "file_extension": ".py",
   "mimetype": "text/x-python",
   "name": "python",
   "nbconvert_exporter": "python",
   "pygments_lexer": "ipython2",
   "version": "2.7.13"
  }
 },
 "nbformat": 4,
 "nbformat_minor": 2
}
